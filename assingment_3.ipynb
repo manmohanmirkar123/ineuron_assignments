{
 "cells": [
  {
   "cell_type": "markdown",
   "id": "8aaccca4",
   "metadata": {},
   "source": [
    "1. Why are functions advantageous to have in your programs?"
   ]
  },
  {
   "cell_type": "markdown",
   "id": "b80d7b84",
   "metadata": {},
   "source": [
    "Ans: Function is nothing but the code which can be resused by calling it. It easier to manage or edit it rather than directly writting those steps into main program."
   ]
  },
  {
   "cell_type": "markdown",
   "id": "72f33fbd",
   "metadata": {},
   "source": [
    "2. When does the code in a function run: when it's specified or when it's called?\n",
    "\n",
    "Ans: Code in the function gets run when its been called from the calling program."
   ]
  },
  {
   "cell_type": "markdown",
   "id": "5a18e9a5",
   "metadata": {},
   "source": [
    "3. What statement creates a function?\n",
    "\n",
    "Ans: In order to define the function we need to use the def keyword followed by function name with braces as below:\n",
    "\n",
    "def my_function( ):\n",
    "\n",
    "  ###function code here onwards\n",
    "  "
   ]
  },
  {
   "cell_type": "markdown",
   "id": "d29575ae",
   "metadata": {},
   "source": [
    "4. What is the difference between a function and a function call?\n",
    "\n",
    "Ans: In the function we define or write steps of the program code which are reusable. Afre define the function in order to execute the program we need to call the function by specifying the name of the function defined in the first step."
   ]
  },
  {
   "cell_type": "code",
   "execution_count": 15,
   "id": "554f153b",
   "metadata": {},
   "outputs": [],
   "source": [
    "def my_function(): ##Here we defined the function followed by steps\n",
    "    pass\n",
    "\n",
    "my_function() ## Here we are calling that function defined earlier."
   ]
  },
  {
   "cell_type": "markdown",
   "id": "125c64fe",
   "metadata": {},
   "source": [
    "5. How many global scopes are there in a Python program? How many local scopes?"
   ]
  },
  {
   "cell_type": "markdown",
   "id": "99096b14",
   "metadata": {},
   "source": [
    "Ans: There is only one global scopes in python. Global variables are available from within any scope, global and local. \n",
    "If the variable is defined in the function its called local scope.So its varies with number of functions defining variable inside the function\n"
   ]
  },
  {
   "cell_type": "code",
   "execution_count": 3,
   "id": "0d2d9da7",
   "metadata": {},
   "outputs": [
    {
     "name": "stdout",
     "output_type": "stream",
     "text": [
      "Manmohan Mirkar\n",
      "Manmohan Mirkar\n"
     ]
    }
   ],
   "source": [
    "###Global scope:\n",
    "\n",
    "name = \"Manmohan Mirkar\"\n",
    "\n",
    "def my_name_function():\n",
    "  print(name)\n",
    "\n",
    "my_name_function()\n",
    "\n",
    "print(name)"
   ]
  },
  {
   "cell_type": "code",
   "execution_count": 5,
   "id": "74acc19d",
   "metadata": {},
   "outputs": [
    {
     "name": "stdout",
     "output_type": "stream",
     "text": [
      "Manmohan\n"
     ]
    }
   ],
   "source": [
    "##Local scope\n",
    "\n",
    "def my_name_function():\n",
    "  name = \"Manmohan\"\n",
    "  print(name)\n",
    "\n",
    "my_name_function()"
   ]
  },
  {
   "cell_type": "markdown",
   "id": "30bb3f4c",
   "metadata": {},
   "source": [
    "6. What happens to variables in a local scope when the function call returns?"
   ]
  },
  {
   "cell_type": "markdown",
   "id": "56da192c",
   "metadata": {},
   "source": [
    "Ans: When a function is returns, the local scope is destroyed, and all the variables becomes undefined."
   ]
  },
  {
   "cell_type": "markdown",
   "id": "2533ddfe",
   "metadata": {},
   "source": [
    "7. What is the concept of a return value? Is it possible to have a return value in an expression?"
   ]
  },
  {
   "cell_type": "markdown",
   "id": "4609bd49",
   "metadata": {},
   "source": [
    "Ans: A return value is the value that a function call evaluates to. Like any value, a return value can be used as part of an expression."
   ]
  },
  {
   "cell_type": "markdown",
   "id": "bb0a4ff5",
   "metadata": {},
   "source": [
    "\n",
    "8. If a function does not have a return statement, what is the return value of a call to that function?"
   ]
  },
  {
   "cell_type": "markdown",
   "id": "d19821af",
   "metadata": {},
   "source": [
    "Ans: If there is no return statement for a function, its return value is None. The function always returns None not defined explicitely.\n"
   ]
  },
  {
   "cell_type": "markdown",
   "id": "b87df23e",
   "metadata": {},
   "source": [
    "9. How do you make a function variable refer to the global variable?"
   ]
  },
  {
   "cell_type": "markdown",
   "id": "8e41f219",
   "metadata": {},
   "source": [
    " Ans: If you want to refer to a global variable in a function, we need to use the **\"global\"** keyword to declare which variables are global."
   ]
  },
  {
   "cell_type": "markdown",
   "id": "c418653d",
   "metadata": {},
   "source": [
    "10. What is the data type of None?"
   ]
  },
  {
   "cell_type": "markdown",
   "id": "5ef789a1",
   "metadata": {},
   "source": [
    "Ans: The data type of None is NoneType.\n"
   ]
  },
  {
   "cell_type": "markdown",
   "id": "338c86c2",
   "metadata": {},
   "source": [
    "11. What does the sentence import areallyourpetsnamederic do?"
   ]
  },
  {
   "cell_type": "markdown",
   "id": "7a511c8a",
   "metadata": {},
   "source": [
    "Ans:This import statement will import a module named areallyourpetsnamederic."
   ]
  },
  {
   "cell_type": "markdown",
   "id": "82419fef",
   "metadata": {},
   "source": [
    "12. If you had a bacon() feature in a spam module, what would you call it after importing spam?"
   ]
  },
  {
   "cell_type": "markdown",
   "id": "76a0b3f4",
   "metadata": {},
   "source": [
    "Ans: We need to call using spam.bacon()."
   ]
  },
  {
   "cell_type": "markdown",
   "id": "54a54199",
   "metadata": {},
   "source": [
    "13. What can you do to save a programme from crashing if it encounters an error?"
   ]
  },
  {
   "cell_type": "markdown",
   "id": "5594ed51",
   "metadata": {},
   "source": [
    "Ans:We need to put the line of code that might cause an error in a try (block)clause and use except block to handle the error.Below is the example:\n"
   ]
  },
  {
   "cell_type": "code",
   "execution_count": 12,
   "id": "e0de2603",
   "metadata": {},
   "outputs": [
    {
     "name": "stdout",
     "output_type": "stream",
     "text": [
      "Manmohan Mirkar\n"
     ]
    }
   ],
   "source": [
    "try:\n",
    "  print(name)\n",
    "except:\n",
    "  print(\"An exception occurred\")"
   ]
  },
  {
   "cell_type": "markdown",
   "id": "53e9237d",
   "metadata": {},
   "source": [
    "14. What is the purpose of the try clause? What is the purpose of the except clause?"
   ]
  },
  {
   "cell_type": "markdown",
   "id": "1cb4a8db",
   "metadata": {},
   "source": [
    "Ans: The code that could potentially cause an error will go in the try clause block. The code that executes if an error happens goes in the except clause. eg:"
   ]
  },
  {
   "cell_type": "code",
   "execution_count": 14,
   "id": "3fd3ea54",
   "metadata": {},
   "outputs": [
    {
     "name": "stdout",
     "output_type": "stream",
     "text": [
      "Manmohan Mirkar\n"
     ]
    }
   ],
   "source": [
    "try:\n",
    "  print(name)\n",
    "except NameError:\n",
    "  print(\"Variable x is not defined\")\n",
    "except:\n",
    "  print(\"Something else went wrong\")"
   ]
  }
 ],
 "metadata": {
  "kernelspec": {
   "display_name": "Python 3 (ipykernel)",
   "language": "python",
   "name": "python3"
  },
  "language_info": {
   "codemirror_mode": {
    "name": "ipython",
    "version": 3
   },
   "file_extension": ".py",
   "mimetype": "text/x-python",
   "name": "python",
   "nbconvert_exporter": "python",
   "pygments_lexer": "ipython3",
   "version": "3.9.7"
  }
 },
 "nbformat": 4,
 "nbformat_minor": 5
}
