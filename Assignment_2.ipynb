{
 "cells": [
  {
   "cell_type": "markdown",
   "id": "7698ac07",
   "metadata": {},
   "source": [
    "1.What are the two values of the Boolean data type? How do you write them?"
   ]
  },
  {
   "cell_type": "markdown",
   "id": "a863cea0",
   "metadata": {},
   "source": [
    "Ans: The two values of the Boolean data type are True or False.  In case we want to initialise with True or False. "
   ]
  },
  {
   "cell_type": "code",
   "execution_count": 1,
   "id": "460fc59d",
   "metadata": {},
   "outputs": [
    {
     "name": "stdout",
     "output_type": "stream",
     "text": [
      "True <class 'bool'>\n",
      "False <class 'bool'>\n"
     ]
    }
   ],
   "source": [
    "result1=True\n",
    "result2=False\n",
    "print(result1,type(result1))\n",
    "print(result2,type(result2))"
   ]
  },
  {
   "cell_type": "markdown",
   "id": "f64296ef",
   "metadata": {},
   "source": [
    "2. What are the three different types of Boolean operators?"
   ]
  },
  {
   "cell_type": "markdown",
   "id": "9238e623",
   "metadata": {},
   "source": [
    "Ans: Boolean operators form the basis of mathematical sets and database logic. They connect our search words together to either narrow or broaden our set of results.The three differnt types of Boolean operators in python are: are, and, not Example: a > 40 and b > 40"
   ]
  },
  {
   "cell_type": "code",
   "execution_count": 2,
   "id": "89f4cb96",
   "metadata": {},
   "outputs": [
    {
     "name": "stdout",
     "output_type": "stream",
     "text": [
      "True\n",
      "True\n",
      "False\n"
     ]
    }
   ],
   "source": [
    "a=1000\n",
    "b=2000\n",
    "print(a>500 and b>1000) # Example of boolean and\n",
    "print(a>200 or b>1000) # Example of boolean or\n",
    "print(not(a>11)) # Example of boolean not"
   ]
  },
  {
   "cell_type": "markdown",
   "id": "13e7685e",
   "metadata": {},
   "source": [
    "3. Make a list of each Boolean operator's truth tables (i.e. every possible combination of Boolean values for the operator and what it evaluate) ?"
   ]
  },
  {
   "cell_type": "markdown",
   "id": "fedb8a5e",
   "metadata": {},
   "source": [
    "Ans: The Truth tables for the boolean tables are as follows:\n",
    "\n",
    "Truth Table for and operator  \n",
    "True and True --> True  \n",
    "True and False --> False  \n",
    "False and True --> False  \n",
    "False and False --> False  \n",
    "\n",
    "Truth Table for or operator  \n",
    "True or True --> True  \n",
    "True or False --> True  \n",
    "False or True --> True  \n",
    "False or False --> False  \n",
    "\n",
    "Truth Table for not operator  \n",
    "True not --> False  \n",
    "False not --> True"
   ]
  },
  {
   "cell_type": "markdown",
   "id": "64e13ec4",
   "metadata": {},
   "source": [
    "4. What are the values of the following expressions ?  \n",
    "(5 > 4) and (3 == 5)  \n",
    "not (5 > 4)  \n",
    "(5 > 4) or (3 == 5)  \n",
    "not ((5 > 4) or (3 == 5))  \n",
    "(True and True) and (True == False)  \n",
    "(not False) or (not True)  "
   ]
  },
  {
   "cell_type": "code",
   "execution_count": 3,
   "id": "d9afe39d",
   "metadata": {},
   "outputs": [
    {
     "name": "stdout",
     "output_type": "stream",
     "text": [
      "False\n",
      "False\n",
      "True\n",
      "False\n",
      "False\n",
      "True\n"
     ]
    }
   ],
   "source": [
    "print((5>4)and(3==5)) # False\n",
    "print(not(5>4)) # False\n",
    "print((5>4)or(3==5)) # True\n",
    "print(not((5>4)or(3==5))) # False\n",
    "print((True and True)and(True==False)) # False\n",
    "print((not False)or(not True)) # True"
   ]
  },
  {
   "cell_type": "markdown",
   "id": "aef4f6f9",
   "metadata": {},
   "source": [
    "5. What are the six comparison operators?"
   ]
  },
  {
   "cell_type": "markdown",
   "id": "2ed23afd",
   "metadata": {},
   "source": [
    "Ans: The Six Comparision Operators available in python are:  \n",
    "== , != , < , > , <= , =>"
   ]
  },
  {
   "cell_type": "markdown",
   "id": "7f972e91",
   "metadata": {},
   "source": [
    "6.\tHow do you tell the difference between the equal to and assignment operators?Describe a condition and when you would use one."
   ]
  },
  {
   "cell_type": "markdown",
   "id": "4393158a",
   "metadata": {},
   "source": [
    "Ans: == is the equal to operator that compares two values and evaluates to a Boolean, while = is that assignment operator that stores a value in a variable."
   ]
  },
  {
   "cell_type": "code",
   "execution_count": 6,
   "id": "36bae21d",
   "metadata": {},
   "outputs": [
    {
     "name": "stdout",
     "output_type": "stream",
     "text": [
      "mark has value 100\n"
     ]
    }
   ],
   "source": [
    "mark =100 # Assigning operator that stores 3 value in a variable a\n",
    "if mark == 100:#comparing values of a varible value and 3\n",
    "    print('mark has value 100')  "
   ]
  },
  {
   "cell_type": "markdown",
   "id": "4a4da7ad",
   "metadata": {},
   "source": [
    "7. Identify the three blocks in this code:\n",
    "spam = 0  \n",
    "if spam == 10:  \n",
    "print('eggs')  \n",
    "if spam > 5:  \n",
    "print('bacon')  \n",
    "else:  \n",
    "print('ham')  \n",
    "print('spam')  \n",
    "print('spam')  "
   ]
  },
  {
   "cell_type": "markdown",
   "id": "3556fe8a",
   "metadata": {},
   "source": [
    "Ans: In Python, code block refers to a collection of code that is in the same block or indent. This is most commonly found in classes, functions, and loops."
   ]
  },
  {
   "cell_type": "code",
   "execution_count": 7,
   "id": "db326cb5",
   "metadata": {},
   "outputs": [
    {
     "name": "stdout",
     "output_type": "stream",
     "text": [
      "ham\n",
      "spam\n",
      "spam\n"
     ]
    }
   ],
   "source": [
    "spam = 0  \n",
    "if spam == 10:  \n",
    "    print('eggs')  # block #1\n",
    "if spam > 5:  \n",
    "    print('bacon')  # block #2\n",
    "else:  \n",
    "    print('ham')  # block #3\n",
    "print('spam')  \n",
    "print('spam')"
   ]
  },
  {
   "cell_type": "markdown",
   "id": "494f1189",
   "metadata": {},
   "source": [
    "8. Write code that prints Hello if 1 is stored in spam, prints Howdy if 2 is stored in spam, and prints Greetings! if anything else is stored in spam."
   ]
  },
  {
   "cell_type": "code",
   "execution_count": 10,
   "id": "25682001",
   "metadata": {},
   "outputs": [
    {
     "name": "stdout",
     "output_type": "stream",
     "text": [
      "Hello\n",
      "Howdy\n",
      "Greetings\n"
     ]
    }
   ],
   "source": [
    "def greet(spam):\n",
    "    if spam==1:\n",
    "        print('Hello')\n",
    "    elif spam==2:\n",
    "        print('Howdy')\n",
    "    else:\n",
    "        print('Greetings')\n",
    "        \n",
    "greet(1) \n",
    "greet(2)\n",
    "greet(3)"
   ]
  },
  {
   "cell_type": "markdown",
   "id": "dad938fb",
   "metadata": {},
   "source": [
    "9.If your programme is stuck in an endless loop, what keys you’ll press?"
   ]
  },
  {
   "cell_type": "markdown",
   "id": "2be2aa42",
   "metadata": {},
   "source": [
    "Ans: Press Ctrl+c to stop a program stuck in an infinite loop"
   ]
  },
  {
   "cell_type": "markdown",
   "id": "76f8018c",
   "metadata": {},
   "source": [
    "10. How can you tell the difference between break and continue?"
   ]
  },
  {
   "cell_type": "markdown",
   "id": "85d03a93",
   "metadata": {},
   "source": [
    "Breaks leave the loop entirely however continue will jump for the next iteration of the loop."
   ]
  },
  {
   "cell_type": "code",
   "execution_count": 14,
   "id": "179b8646",
   "metadata": {},
   "outputs": [
    {
     "name": "stdout",
     "output_type": "stream",
     "text": [
      "M\n",
      "a\n",
      "n\n",
      "m\n",
      "End of the loop\n"
     ]
    }
   ],
   "source": [
    "# Use of break statement inside the loop\n",
    "\n",
    "for name in \"Manmohan\":\n",
    "    if name == \"o\":\n",
    "        break\n",
    "    print(name)\n",
    "\n",
    "print(\"End of the loop\")"
   ]
  },
  {
   "cell_type": "code",
   "execution_count": 15,
   "id": "81344426",
   "metadata": {},
   "outputs": [
    {
     "name": "stdout",
     "output_type": "stream",
     "text": [
      "M\n",
      "a\n",
      "n\n",
      "m\n",
      "h\n",
      "a\n",
      "n\n",
      "End of the loop\n"
     ]
    }
   ],
   "source": [
    "# Use of break statement inside the loop\n",
    "\n",
    "for name in \"Manmohan\":\n",
    "    if name == \"o\":\n",
    "        continue\n",
    "    print(name)\n",
    "\n",
    "print(\"End of the loop\")"
   ]
  },
  {
   "cell_type": "markdown",
   "id": "5d163481",
   "metadata": {},
   "source": [
    "11. In a for loop, what is the difference between range(10), range(0, 10), and range(0, 10, 1)?"
   ]
  },
  {
   "cell_type": "markdown",
   "id": "05f11eb2",
   "metadata": {},
   "source": [
    "Ans:Syntax of range() is as below:  \n",
    "range(start, stop, step)   \n",
    "The first option is range(10) will print all the series of values from 0 till 9 but not 10 so 10 will act as a stop argument.  \n",
    "The second option is range(0, 10). In this 0 will act as the start value and 10 will act as the stop value.  \n",
    "The third option is range(0, 10, 1), In this 0 will act as the start value and 10 will act as the stop value and 1 will act as a step value which signifies that it will increment by 1. \n"
   ]
  },
  {
   "cell_type": "markdown",
   "id": "512fa2b6",
   "metadata": {},
   "source": [
    "12. Write a short program that prints the numbers 1 to 10 using a for loop. Then write an equivalent program that prints the numbers 1 to 10 using a while loop."
   ]
  },
  {
   "cell_type": "code",
   "execution_count": 16,
   "id": "5740dfd6",
   "metadata": {},
   "outputs": [
    {
     "name": "stdout",
     "output_type": "stream",
     "text": [
      "1\n",
      "2\n",
      "3\n",
      "4\n",
      "5\n",
      "6\n",
      "7\n",
      "8\n",
      "9\n",
      "10\n"
     ]
    }
   ],
   "source": [
    "for i in range(1,11):\n",
    "    print(i)"
   ]
  },
  {
   "cell_type": "code",
   "execution_count": 17,
   "id": "5843348c",
   "metadata": {},
   "outputs": [
    {
     "name": "stdout",
     "output_type": "stream",
     "text": [
      "1\n",
      "2\n",
      "3\n",
      "4\n",
      "5\n",
      "6\n",
      "7\n",
      "8\n",
      "9\n",
      "10\n"
     ]
    }
   ],
   "source": [
    "i=1\n",
    "while i <=10:\n",
    "    print(i)\n",
    "    i+=1"
   ]
  },
  {
   "cell_type": "markdown",
   "id": "3a7a88cb",
   "metadata": {},
   "source": [
    "13. If you had a function named bacon() inside a module named spam, how would you call it after importing spam?"
   ]
  },
  {
   "cell_type": "markdown",
   "id": "7d678fc2",
   "metadata": {},
   "source": [
    "Ans: This function can be called with spam.bacon()"
   ]
  }
 ],
 "metadata": {
  "kernelspec": {
   "display_name": "Python 3 (ipykernel)",
   "language": "python",
   "name": "python3"
  },
  "language_info": {
   "codemirror_mode": {
    "name": "ipython",
    "version": 3
   },
   "file_extension": ".py",
   "mimetype": "text/x-python",
   "name": "python",
   "nbconvert_exporter": "python",
   "pygments_lexer": "ipython3",
   "version": "3.9.7"
  }
 },
 "nbformat": 4,
 "nbformat_minor": 5
}
