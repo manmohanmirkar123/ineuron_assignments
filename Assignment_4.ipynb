{
 "cells": [
  {
   "cell_type": "markdown",
   "id": "98dc6e2e",
   "metadata": {},
   "source": [
    "1. What exactly is []?"
   ]
  },
  {
   "cell_type": "markdown",
   "id": "20dd3a3e",
   "metadata": {},
   "source": [
    "To represent the empty list we use \"[]\" . This will not have any item into it. "
   ]
  },
  {
   "cell_type": "code",
   "execution_count": 10,
   "id": "24601d9a",
   "metadata": {},
   "outputs": [
    {
     "name": "stdout",
     "output_type": "stream",
     "text": [
      "contents of list are:: []\n",
      "type of name[] is:: <class 'list'>\n"
     ]
    }
   ],
   "source": [
    "#example of empty list\n",
    "\n",
    "name=[]\n",
    "\n",
    "print(f\"contents of list are:: {name}\")\n",
    "print(f\"type of name[] is:: {type(name)}\")"
   ]
  },
  {
   "cell_type": "markdown",
   "id": "7256673f",
   "metadata": {},
   "source": [
    "2. In a list of values stored in a variable called spam, how would you assign the value &#39;hello&#39; as the\n",
    "third value? (Assume [2, 4, 6, 8, 10] are in spam.)"
   ]
  },
  {
   "cell_type": "markdown",
   "id": "d513d605",
   "metadata": {},
   "source": [
    "Ans: spam[2]='hello'"
   ]
  },
  {
   "cell_type": "code",
   "execution_count": 11,
   "id": "f7f54ac6",
   "metadata": {},
   "outputs": [
    {
     "name": "stdout",
     "output_type": "stream",
     "text": [
      "[2, 4, 6, 8, 10]\n",
      "[2, 4, 'hello', 8, 10]\n"
     ]
    }
   ],
   "source": [
    "spam=[2,4,6,8,10]\n",
    "print(spam)\n",
    "spam[2]='hello' \n",
    "print(spam)"
   ]
  },
  {
   "cell_type": "markdown",
   "id": "a02b56d5",
   "metadata": {},
   "source": [
    "**Let&#39;s pretend the spam includes the list [&#39;a&#39;, &#39;b&#39;, &#39;c&#39;, &#39;d&#39;] for the next three queries.**\n"
   ]
  },
  {
   "cell_type": "markdown",
   "id": "829a4235",
   "metadata": {},
   "source": [
    "3. What is the value of spam[int(int(&#39;3&#39; * 2) / 11)]?"
   ]
  },
  {
   "cell_type": "markdown",
   "id": "56da9ef0",
   "metadata": {},
   "source": [
    "Ans: 'd' (outcome of '3' * 2 is the string '33', which is then passed to int() before being divided by 11. This eventually evaluates to 3, spam[3] is equal to d.)"
   ]
  },
  {
   "cell_type": "code",
   "execution_count": 15,
   "id": "fcad315d",
   "metadata": {},
   "outputs": [
    {
     "name": "stdout",
     "output_type": "stream",
     "text": [
      "spam[int(int('3'*2)//11)] -> d\n"
     ]
    }
   ],
   "source": [
    "spam=['a','b','c','d']\n",
    "print(\"spam[int(int('3'*2)//11)] ->\",spam[int(int('3'*2)//11)])"
   ]
  },
  {
   "cell_type": "markdown",
   "id": "2247e24a",
   "metadata": {},
   "source": [
    "4. What is the value of spam[-1]?"
   ]
  },
  {
   "cell_type": "markdown",
   "id": "6385c98e",
   "metadata": {},
   "source": [
    "Ans: 'd' (Lists support Negative indexing, Hence spam[-1] returs last element which is 'd'). -1 index returns last item of the list"
   ]
  },
  {
   "cell_type": "code",
   "execution_count": 16,
   "id": "31129d37",
   "metadata": {},
   "outputs": [
    {
     "name": "stdout",
     "output_type": "stream",
     "text": [
      "spam[-1] ->  d\n"
     ]
    }
   ],
   "source": [
    "spam=['a','b','c','d']\n",
    "print('spam[-1] -> ',spam[-1])"
   ]
  },
  {
   "cell_type": "markdown",
   "id": "a2f034ee",
   "metadata": {},
   "source": [
    "5. What is the value of spam[:2]?"
   ]
  },
  {
   "cell_type": "markdown",
   "id": "d74b6756",
   "metadata": {},
   "source": [
    "Ans: spam[:2] returns all elements in the list spam from 0 to 2 excluding 2"
   ]
  },
  {
   "cell_type": "code",
   "execution_count": 18,
   "id": "48ee3383",
   "metadata": {},
   "outputs": [
    {
     "name": "stdout",
     "output_type": "stream",
     "text": [
      "['a', 'b', 'c', 'd']\n",
      "['a', 'b']\n"
     ]
    }
   ],
   "source": [
    "print(spam)\n",
    "print(spam[:2])"
   ]
  },
  {
   "cell_type": "markdown",
   "id": "4cafbcfe",
   "metadata": {},
   "source": [
    "**Let&#39;s pretend bacon has the list [3.14, &#39;cat,&#39; 11, &#39;cat,&#39; True] for the next three questions.**"
   ]
  },
  {
   "cell_type": "markdown",
   "id": "bea323a3",
   "metadata": {},
   "source": [
    "6. What is the value of bacon.index(&#39;cat&#39;)?"
   ]
  },
  {
   "cell_type": "markdown",
   "id": "942a0112",
   "metadata": {},
   "source": [
    "Ans: The value of bacon.index('cat') is 1 (Index method returns the index of first occuerence of 'cat')"
   ]
  },
  {
   "cell_type": "code",
   "execution_count": 19,
   "id": "d81b768e",
   "metadata": {},
   "outputs": [
    {
     "name": "stdout",
     "output_type": "stream",
     "text": [
      "bacon.index('cat') -> 1\n"
     ]
    }
   ],
   "source": [
    "bacon=[3.14,'cat',11,'cat',True]\n",
    "print(\"bacon.index('cat') ->\",bacon.index('cat'))"
   ]
  },
  {
   "cell_type": "markdown",
   "id": "8e199eee",
   "metadata": {},
   "source": [
    "7. How does bacon.append(99) change the look of the list value in bacon?"
   ]
  },
  {
   "cell_type": "markdown",
   "id": "ea17f8eb",
   "metadata": {},
   "source": [
    "Ans: The append method adds new elements to the end of the list"
   ]
  },
  {
   "cell_type": "code",
   "execution_count": 20,
   "id": "708c2cde",
   "metadata": {},
   "outputs": [
    {
     "name": "stdout",
     "output_type": "stream",
     "text": [
      "[3.14, 'cat', 11, 'cat', True]\n",
      "[3.14, 'cat', 11, 'cat', True, 99]\n"
     ]
    }
   ],
   "source": [
    "print(bacon)\n",
    "bacon.append(99) # appends 99 to the end of the bacon list\n",
    "print(bacon)"
   ]
  },
  {
   "cell_type": "markdown",
   "id": "57555bae",
   "metadata": {},
   "source": [
    "8. How does bacon.remove(&#39;cat&#39;) change the look of the list in bacon?"
   ]
  },
  {
   "cell_type": "markdown",
   "id": "ad0efd97",
   "metadata": {},
   "source": [
    "Ans: The remove method removes the first occurence of the element in the list"
   ]
  },
  {
   "cell_type": "code",
   "execution_count": 21,
   "id": "d55b5b6d",
   "metadata": {},
   "outputs": [
    {
     "name": "stdout",
     "output_type": "stream",
     "text": [
      "[3.14, 'cat', 11, 'cat', True, 99]\n",
      "[3.14, 11, 'cat', True, 99]\n"
     ]
    }
   ],
   "source": [
    "print(bacon)\n",
    "bacon.remove('cat')\n",
    "print(bacon)"
   ]
  },
  {
   "cell_type": "markdown",
   "id": "b75129de",
   "metadata": {},
   "source": [
    "9. What are the list concatenation and list replication operators?"
   ]
  },
  {
   "cell_type": "markdown",
   "id": "1e3103ad",
   "metadata": {},
   "source": [
    "Ans: The operator for list concatenation is +, while the operator for replication is *. (This is the same as for strings.)"
   ]
  },
  {
   "cell_type": "code",
   "execution_count": 22,
   "id": "d06a2f80",
   "metadata": {},
   "outputs": [
    {
     "name": "stdout",
     "output_type": "stream",
     "text": [
      "['a', 'b', 'c', 'd', 'e', 'p', 'q', 'r']\n",
      "['a', 'b', 'c', 'd', 'e', 'a', 'b', 'c', 'd', 'e']\n"
     ]
    }
   ],
   "source": [
    "name1 = ['a','b','c','d','e']\n",
    "name2 = ['p','q','r']\n",
    "print(name1 + name2) # List Concatenation\n",
    "print(name1*2) # List Replication"
   ]
  },
  {
   "cell_type": "markdown",
   "id": "c6e39b6d",
   "metadata": {},
   "source": [
    "10. What is difference between the list methods append() and insert()?"
   ]
  },
  {
   "cell_type": "markdown",
   "id": "d143fe7d",
   "metadata": {},
   "source": [
    "Ans: While append() will add values only to the end of a list, insert() can add them anywhere in the list by mentioning the index value.\n"
   ]
  },
  {
   "cell_type": "code",
   "execution_count": 23,
   "id": "47d079e6",
   "metadata": {},
   "outputs": [
    {
     "name": "stdout",
     "output_type": "stream",
     "text": [
      "[2, 4, 1, 7, 4, 34]\n",
      "[2, 4, 1, 'Manmohan', 7, 4, 34]\n"
     ]
    }
   ],
   "source": [
    "list = [2,4,1,7,4]\n",
    "list.append(34)\n",
    "print(list)\n",
    "list.insert(3,'Manmohan')\n",
    "print(list)"
   ]
  },
  {
   "cell_type": "markdown",
   "id": "32962e0d",
   "metadata": {},
   "source": [
    "11. What are the two methods for removing items from a list?"
   ]
  },
  {
   "cell_type": "markdown",
   "id": "56e7582d",
   "metadata": {},
   "source": [
    "Ans: The del statement and the remove() method are two ways to remove values from a list."
   ]
  },
  {
   "cell_type": "code",
   "execution_count": 24,
   "id": "e843c150",
   "metadata": {},
   "outputs": [
    {
     "data": {
      "text/plain": [
       "[2, 4, 7, 4]"
      ]
     },
     "execution_count": 24,
     "metadata": {},
     "output_type": "execute_result"
    }
   ],
   "source": [
    "# assign list\n",
    "list = [2,4,1,7,4]\n",
    "  \n",
    "# use del\n",
    "del list[2]\n",
    "\n",
    "list"
   ]
  },
  {
   "cell_type": "markdown",
   "id": "f64b2368",
   "metadata": {},
   "source": [
    "12. Describe how list values and string values are identical."
   ]
  },
  {
   "cell_type": "markdown",
   "id": "cc307e79",
   "metadata": {},
   "source": [
    "Ans: Below are some reasons how list values and string values are identical:\n",
    "\n",
    "A. We can use len function on both list values and string values.  \n",
    "B. Have indexes and slices, be used in for loops.  \n",
    "C. Can be concatenated or replicated.  \n",
    "D. Can be used with the in and not in operators."
   ]
  },
  {
   "cell_type": "markdown",
   "id": "bc52fe6d",
   "metadata": {},
   "source": [
    "13. What&#39;s the difference between tuples and lists?"
   ]
  },
  {
   "cell_type": "markdown",
   "id": "59befeeb",
   "metadata": {},
   "source": [
    "Ans: Lists are Mutable, Indexable and Slicable. they can have values added, removed, or changed.  \n",
    "Tuples are Immutable but Indexable and Slicable.  \n",
    "The tuple values cannot be changed at all.  \n",
    "Also, tuples are represented using parentheses, (), while lists use the square brackets, []."
   ]
  },
  {
   "cell_type": "markdown",
   "id": "13aeb137",
   "metadata": {},
   "source": [
    "14. How do you type a tuple value that only contains the integer 42?"
   ]
  },
  {
   "cell_type": "markdown",
   "id": "dc357eb7",
   "metadata": {},
   "source": [
    "Ans:(42,) (The trailing comma is mandatory. otherwise its considered as a int by python Interpreter)"
   ]
  },
  {
   "cell_type": "markdown",
   "id": "05c192b7",
   "metadata": {},
   "source": [
    "15. How do you get a list value&#39;s tuple form? How do you get a tuple value&#39;s list form?"
   ]
  },
  {
   "cell_type": "markdown",
   "id": "c4d5c8ae",
   "metadata": {},
   "source": [
    "Ans: To get the list value in the tuple form we can use tuple function as below:"
   ]
  },
  {
   "cell_type": "code",
   "execution_count": 48,
   "id": "b29bed69",
   "metadata": {},
   "outputs": [
    {
     "name": "stdout",
     "output_type": "stream",
     "text": [
      "(1, 2, 3)\n",
      "<class 'tuple'>\n"
     ]
    }
   ],
   "source": [
    "my_list = [1, 2, 3]\n",
    "my_tuple = tuple(my_list)\n",
    "print(my_tuple)\n",
    "print(type(my_tuple))"
   ]
  },
  {
   "cell_type": "markdown",
   "id": "ba070191",
   "metadata": {},
   "source": [
    "To get the tuple values in the list form we can use list comprehension as below:"
   ]
  },
  {
   "cell_type": "code",
   "execution_count": 49,
   "id": "94434756",
   "metadata": {},
   "outputs": [
    {
     "name": "stdout",
     "output_type": "stream",
     "text": [
      "['abc', 'def', 'pqr', 'xyz']\n"
     ]
    }
   ],
   "source": [
    "# Define a tuple with with names\n",
    "t = (\"abc\", \"def\", \"pqr\", \"xyz\")\n",
    "\n",
    "# Create a list of the elements of the tuple using a list comprehension\n",
    "lst = [i for i in t]\n",
    "\n",
    "# Print the list\n",
    "print(lst)"
   ]
  },
  {
   "cell_type": "markdown",
   "id": "804957b8",
   "metadata": {},
   "source": [
    "16. Variables that &quot;contain&quot; list values are not necessarily lists themselves. Instead, what do they\n",
    "contain?"
   ]
  },
  {
   "cell_type": "markdown",
   "id": "aacb898b",
   "metadata": {},
   "source": [
    "Ans: They contain references to list values."
   ]
  },
  {
   "cell_type": "markdown",
   "id": "c0c48d6d",
   "metadata": {},
   "source": [
    "17. How do you distinguish between copy.copy() and copy.deepcopy()?"
   ]
  },
  {
   "cell_type": "markdown",
   "id": "1ea548fd",
   "metadata": {},
   "source": [
    "Ans: The copy.copy() function will do a shallow copy of a list, while the copy.deepcopy() \n",
    "\n",
    "creates a new object which stores the reference of the original elements.\n",
    "\n",
    "**Shallow Copy::**\n",
    "Shallow copy doesn't create a copy of nested objects, instead it just copies the reference of nested objects. This means, a copy process does not recurse or create copies of nested objects itself."
   ]
  },
  {
   "cell_type": "code",
   "execution_count": 51,
   "id": "dc40650e",
   "metadata": {},
   "outputs": [
    {
     "name": "stdout",
     "output_type": "stream",
     "text": [
      "Old list: [[1, 1, 1], [2, 'AA', 2], [3, 3, 3]]\n",
      "New list: [[1, 1, 1], [2, 'AA', 2], [3, 3, 3]]\n"
     ]
    }
   ],
   "source": [
    "#example of shallow copy:\n",
    "import copy\n",
    "\n",
    "old_list = [[1, 1, 1], [2, 2, 2], [3, 3, 3]]\n",
    "new_list = copy.copy(old_list)\n",
    "\n",
    "old_list[1][1] = 'AA'\n",
    "\n",
    "print(\"Old list:\", old_list)\n",
    "print(\"New list:\", new_list)"
   ]
  },
  {
   "cell_type": "markdown",
   "id": "c6be094c",
   "metadata": {},
   "source": [
    "In the above program, we made changes to old_list i.e old_list[1][1] = 'AA'. Both sublists of old_list and new_list at index [1][1] were modified. This is because, both lists share the reference of same nested objects."
   ]
  },
  {
   "cell_type": "markdown",
   "id": "6afccd9b",
   "metadata": {},
   "source": [
    "**Deep Copy::**\n",
    "A deep copy creates a new object and recursively adds the copies of nested objects present in the original elements."
   ]
  },
  {
   "cell_type": "code",
   "execution_count": 52,
   "id": "41835623",
   "metadata": {},
   "outputs": [
    {
     "name": "stdout",
     "output_type": "stream",
     "text": [
      "Old list: [[1, 1, 1], ['BB', 2, 2], [3, 3, 3]]\n",
      "New list: [[1, 1, 1], [2, 2, 2], [3, 3, 3]]\n"
     ]
    }
   ],
   "source": [
    "import copy\n",
    "\n",
    "old_list = [[1, 1, 1], [2, 2, 2], [3, 3, 3]]\n",
    "new_list = copy.deepcopy(old_list)\n",
    "\n",
    "old_list[1][0] = 'BB'\n",
    "\n",
    "print(\"Old list:\", old_list)\n",
    "print(\"New list:\", new_list)"
   ]
  },
  {
   "cell_type": "markdown",
   "id": "7949a609",
   "metadata": {},
   "source": [
    "In the above program, when we assign a new value to old_list, we can see only the old_list is modified. This means, both the old_list and the new_list are independent. This is because the old_list was recursively copied, which is true for all its nested objects."
   ]
  }
 ],
 "metadata": {
  "kernelspec": {
   "display_name": "Python 3 (ipykernel)",
   "language": "python",
   "name": "python3"
  },
  "language_info": {
   "codemirror_mode": {
    "name": "ipython",
    "version": 3
   },
   "file_extension": ".py",
   "mimetype": "text/x-python",
   "name": "python",
   "nbconvert_exporter": "python",
   "pygments_lexer": "ipython3",
   "version": "3.9.7"
  }
 },
 "nbformat": 4,
 "nbformat_minor": 5
}
