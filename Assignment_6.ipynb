{
 "cells": [
  {
   "cell_type": "markdown",
   "id": "ceeb49cd",
   "metadata": {},
   "source": [
    "Python Basic - 1"
   ]
  },
  {
   "cell_type": "markdown",
   "id": "362c309c",
   "metadata": {},
   "source": [
    "Q.1. What are keywords in python? Using the keyword library, print all the python keywords."
   ]
  },
  {
   "cell_type": "markdown",
   "id": "af149cbb",
   "metadata": {},
   "source": [
    "Ans:Keywords are the reserved words in Python. We cannot use a keyword as a variable name, function name or any other identifier."
   ]
  },
  {
   "cell_type": "code",
   "execution_count": 6,
   "id": "ebf657e8",
   "metadata": {},
   "outputs": [
    {
     "name": "stdout",
     "output_type": "stream",
     "text": [
      "Number of keywords exists in Python::36\n",
      "Python keywords are...\n",
      "['False', 'None', 'True', '__peg_parser__', 'and', 'as', 'assert', 'async', 'await', 'break', 'class', 'continue', 'def', 'del', 'elif', 'else', 'except', 'finally', 'for', 'from', 'global', 'if', 'import', 'in', 'is', 'lambda', 'nonlocal', 'not', 'or', 'pass', 'raise', 'return', 'try', 'while', 'with', 'yield']\n"
     ]
    }
   ],
   "source": [
    "# Python program to print the list of all keywords\n",
    "\n",
    "# importing the module\n",
    "import keyword\n",
    "\n",
    "#printing number of keywords\n",
    "print(f\"Number of keywords exists in Python::{len(keyword.kwlist)}\")\n",
    "# printing the keywords\n",
    "print(\"Python keywords are...\")\n",
    "print(keyword.kwlist)"
   ]
  },
  {
   "cell_type": "markdown",
   "id": "6d57a767",
   "metadata": {},
   "source": [
    "Q.2. What are the rules to create variables in python?"
   ]
  },
  {
   "cell_type": "markdown",
   "id": "fd29ef27",
   "metadata": {},
   "source": [
    "Following are the rules for Python variables:\n",
    "\n",
    "A variable name must start with a letter or the underscore character  \n",
    "A variable name cannot start with a number  \n",
    "A variable name can only contain alpha-numeric characters and underscores (A-z, 0-9, and _ )  \n",
    "Variable names are case-sensitive (age, Age and AGE are three different variables)  "
   ]
  },
  {
   "cell_type": "code",
   "execution_count": null,
   "id": "844f663e",
   "metadata": {},
   "outputs": [],
   "source": [
    "#Legal variable names:\n",
    "myvar = \"Manmohan\"\n",
    "my_var = \"Manmohan\"\n",
    "_my_var = \"Manmohan\"\n",
    "myVar = \"Manmohan\"\n",
    "MYVAR = \"Manmohan\"\n",
    "myvar2 = \"Manmohan\"\n",
    "\n",
    "#Illegal variable names:\n",
    "2myvar = \"Manmohan\"\n",
    "my-var = \"Manmohan\"\n",
    "my var = \"Manmohan\""
   ]
  },
  {
   "cell_type": "markdown",
   "id": "f8d96cec",
   "metadata": {},
   "source": [
    "Q.3. What are the standards and conventions followed for the nomenclature of variables in\n",
    "python to improve code readability and maintainability?"
   ]
  },
  {
   "cell_type": "markdown",
   "id": "80724595",
   "metadata": {},
   "source": [
    "Ans:\n",
    "1. It should clear and concise.  \n",
    "2. Be written in English. A general coding practice is to write code with variable names in English, as that is the most likely common language between programmers. Thus, variable names such as muuttuja (which is also not a good name on other levels) should be avoided.  \n",
    "3. Not contain special characters. Python supports use of special characters by way of various encoding options that can be given in a program. That said, it is better to avoid variables such as lämpötila because encoding issues can arise in some cases. Better to stick to the standard printable ASCII character set to be safe.  \n",
    "4.Not conflict with any Python keywords, such as for, True, False, and, if, or else. These are reserved for speical operations in Python and cannot be used as variable names.   \n",
    "5. It is better to avoid the use of digits in variable names.  \n",
    "6. Local variables should be named using camel case lettering starting with small letter (e.g. localData) whereas Global variables names should start with a capital letter (e.g. GlobalData). Constant names should be formed using capital letters only (e.g. CONSDATA). \n",
    "\n",
    "Naming types:\n",
    "1. **pothole_case_naming** uses lowercase words separated by underscores _. This is our suggested format as the underscores make it easy to read the variable, and don’t add too much to the length of the variable name. As an example, consider the variable temp_celsius. In the context of the examples above, we might rename our variable fmi_station_id, which conveys all of the essential information we need, while remaining easy to read.  \n",
    "2. **camelCase or CamelCase** uses capitalization of the first letter of words in a variable name to make it easier to read. In some cases the first letter of the variable may be capitalized. The variable tempFahrenheit was one example of camelCase. Again, if we consider the examples from the previous section, we might consider the variable name fmiStationID or simply stationID if we elect to use camelCase."
   ]
  },
  {
   "cell_type": "markdown",
   "id": "9b7fd0d7",
   "metadata": {},
   "source": [
    "Q.4. What will happen if a keyword is used as a variable name?"
   ]
  },
  {
   "cell_type": "markdown",
   "id": "bb1bdf18",
   "metadata": {},
   "source": [
    "Ans: If we try to use keyword as a variable name we will get an SyntaxError"
   ]
  },
  {
   "cell_type": "code",
   "execution_count": 18,
   "id": "b52705bb",
   "metadata": {},
   "outputs": [
    {
     "ename": "SyntaxError",
     "evalue": "invalid syntax (1529086528.py, line 1)",
     "output_type": "error",
     "traceback": [
      "\u001b[0;36m  File \u001b[0;32m\"/var/folders/tb/rmws3cxd5617q9j9w2b9f75w0000gn/T/ipykernel_21903/1529086528.py\"\u001b[0;36m, line \u001b[0;32m1\u001b[0m\n\u001b[0;31m    global = \"name\"\u001b[0m\n\u001b[0m           ^\u001b[0m\n\u001b[0;31mSyntaxError\u001b[0m\u001b[0;31m:\u001b[0m invalid syntax\n"
     ]
    }
   ],
   "source": [
    "global = \"name\""
   ]
  },
  {
   "cell_type": "markdown",
   "id": "fbc2991d",
   "metadata": {},
   "source": [
    "Q.5. For what purpose def keyword is used?"
   ]
  },
  {
   "cell_type": "markdown",
   "id": "92a628cf",
   "metadata": {},
   "source": [
    "Ans: The def keyword is used to create, (or define) a function.\n"
   ]
  },
  {
   "cell_type": "code",
   "execution_count": 21,
   "id": "e65f1872",
   "metadata": {},
   "outputs": [
    {
     "name": "stdout",
     "output_type": "stream",
     "text": [
      "7\n"
     ]
    }
   ],
   "source": [
    "def my_fun(a, b): ##Here we are defining the function using def keyword\n",
    "    return a+b\n",
    "\n",
    "c = my_fun(3,4)\n",
    "print(c)"
   ]
  },
  {
   "cell_type": "markdown",
   "id": "7312e975",
   "metadata": {},
   "source": [
    "Q.6. What is the operation of this special character ‘\\’?"
   ]
  },
  {
   "cell_type": "markdown",
   "id": "6526ef72",
   "metadata": {},
   "source": [
    "Ans: To insert characters that are illegal in a string, use an escape character \"\\\".\n",
    "\n",
    "An escape character is a backslash \\ followed by the character you want to insert."
   ]
  },
  {
   "cell_type": "markdown",
   "id": "2b09509d",
   "metadata": {},
   "source": [
    "example:\n",
    "    \n",
    "\\'\t------Single Quote\t\n",
    "\\\\\t------Backslash\t\n",
    "\\n\t------New Line\t\n",
    "\\r\t------Carriage Return\t\n",
    "\\t\t------Tab\t\n",
    "\\b\t------Backspace\t\n",
    "\\f\t------Form Feed\t\n",
    "\\ooo------Octal value\t\n",
    "\\xhh------Hex value"
   ]
  },
  {
   "cell_type": "code",
   "execution_count": 23,
   "id": "a80d0d7f",
   "metadata": {},
   "outputs": [
    {
     "name": "stdout",
     "output_type": "stream",
     "text": [
      "My Name is \"Manmohan\"\n"
     ]
    }
   ],
   "source": [
    "msg = \"My Name is \\\"Manmohan\\\"\" #here we escaped \"\" using \\ (escape character)\n",
    "print(msg)"
   ]
  },
  {
   "cell_type": "markdown",
   "id": "bb073a64",
   "metadata": {},
   "source": [
    "Q.7. Give an example of the following conditions:  \n",
    "(i) Homogeneous list  \n",
    "(ii) Heterogeneous set  \n",
    "(iii) Homogeneous tuple  "
   ]
  },
  {
   "cell_type": "markdown",
   "id": "5e4e5e03",
   "metadata": {},
   "source": [
    "(A) Homogeneous list: In homogeneous list all the elements are of the same data type. eg:"
   ]
  },
  {
   "cell_type": "code",
   "execution_count": 25,
   "id": "942b7460",
   "metadata": {},
   "outputs": [],
   "source": [
    "name=[\"abc\",\"pqr\",\"xyz\"]"
   ]
  },
  {
   "cell_type": "markdown",
   "id": "e610680b",
   "metadata": {},
   "source": [
    "(B)Heterogeneous set: In heterogeneous set, the elements can be of different data types. eg:"
   ]
  },
  {
   "cell_type": "code",
   "execution_count": 26,
   "id": "f984cb99",
   "metadata": {},
   "outputs": [],
   "source": [
    "set1 = {2, 'abc', 3.14}"
   ]
  },
  {
   "cell_type": "markdown",
   "id": "7130c9a7",
   "metadata": {},
   "source": [
    "(iii) Homogeneous tuple: In homogeneous tuple all the elements are of the same data type. eg:"
   ]
  },
  {
   "cell_type": "code",
   "execution_count": 29,
   "id": "46f3279e",
   "metadata": {},
   "outputs": [],
   "source": [
    "cities = ('Mumbai', 'Pune', 'Delhi', 'Patna')"
   ]
  },
  {
   "cell_type": "markdown",
   "id": "fd43134a",
   "metadata": {},
   "source": [
    "Q.8. Explain the mutable and immutable data types with proper explanation & examples."
   ]
  },
  {
   "cell_type": "markdown",
   "id": "50494b35",
   "metadata": {},
   "source": [
    "Ans: **Mutable data types** in Python are those whose value can be changed in place after they have been created.  \n",
    "\n",
    "There are basically 3 mutable data types in Python:  \n",
    "List  \n",
    "Dictionary  \n",
    "Set  "
   ]
  },
  {
   "cell_type": "code",
   "execution_count": 30,
   "id": "aae60ea1",
   "metadata": {},
   "outputs": [
    {
     "name": "stdout",
     "output_type": "stream",
     "text": [
      "List after appending a value =  [1, 2, 3, 4, 5, 10]\n",
      "List after extending a list =  [1, 2, 3, 4, 5, 10, 6, 11, 23]\n",
      "List after removing a value =  [1, 2, 4, 5, 10, 6, 11, 23]\n"
     ]
    }
   ],
   "source": [
    "# example to demonstrate list is a mutable data type in python\n",
    "\n",
    "# our current list\n",
    "my_list = [1,2,3,4,5]\n",
    "\n",
    "# using append operation in our list\n",
    "my_list.append(10)\n",
    "# printing our list after the operation\n",
    "print(\"List after appending a value = \",my_list)\n",
    "\n",
    "# using extend operation in our list\n",
    "my_list.extend([6,11,23])\n",
    "# printing our list after the operation\n",
    "print(\"List after extending a list = \",my_list)\n",
    "\n",
    "# after removing a value from our list\n",
    "my_list.remove(3)\n",
    "# printing our list after the operation\n",
    "print(\"List after removing a value = \",my_list)"
   ]
  },
  {
   "cell_type": "markdown",
   "id": "a35966a8",
   "metadata": {},
   "source": [
    "**Immutable datatypes** are objects that cannot be modified or altered after they have been created (for example, by adding new elements, removing elements, or replacing elements). Python's immutable data types are:  \n",
    "Int\n",
    "\n",
    "Float  \n",
    "Tuple  \n",
    "Complex  \n",
    "String  \n",
    "Bytes  "
   ]
  },
  {
   "cell_type": "code",
   "execution_count": 32,
   "id": "1df5d167",
   "metadata": {},
   "outputs": [
    {
     "ename": "TypeError",
     "evalue": "'tuple' object does not support item assignment",
     "output_type": "error",
     "traceback": [
      "\u001b[0;31m---------------------------------------------------------------------------\u001b[0m",
      "\u001b[0;31mTypeError\u001b[0m                                 Traceback (most recent call last)",
      "\u001b[0;32m/var/folders/tb/rmws3cxd5617q9j9w2b9f75w0000gn/T/ipykernel_21903/4104866345.py\u001b[0m in \u001b[0;36m<module>\u001b[0;34m\u001b[0m\n\u001b[1;32m      1\u001b[0m \u001b[0mset_values\u001b[0m \u001b[0;34m=\u001b[0m \u001b[0;34m(\u001b[0m\u001b[0;36m10\u001b[0m\u001b[0;34m,\u001b[0m \u001b[0;36m20\u001b[0m\u001b[0;34m,\u001b[0m \u001b[0;36m30\u001b[0m\u001b[0;34m)\u001b[0m\u001b[0;34m\u001b[0m\u001b[0;34m\u001b[0m\u001b[0m\n\u001b[0;32m----> 2\u001b[0;31m \u001b[0mset_values\u001b[0m\u001b[0;34m[\u001b[0m\u001b[0;36m0\u001b[0m\u001b[0;34m]\u001b[0m \u001b[0;34m=\u001b[0m \u001b[0;36m100\u001b[0m \u001b[0;31m#In the below message it errors out since its immutable\u001b[0m\u001b[0;34m\u001b[0m\u001b[0;34m\u001b[0m\u001b[0m\n\u001b[0m",
      "\u001b[0;31mTypeError\u001b[0m: 'tuple' object does not support item assignment"
     ]
    }
   ],
   "source": [
    "set_values = (10, 20, 30)\n",
    "set_values[0] = 100 #In the below message it errors out since its immutable"
   ]
  },
  {
   "cell_type": "markdown",
   "id": "4a835cec",
   "metadata": {},
   "source": [
    "Q.9. Write a code to create the given structure using only for loop.  \n",
    "*  \n",
    "***  \n",
    "*****  \n",
    "*******  \n",
    "*********  "
   ]
  },
  {
   "cell_type": "code",
   "execution_count": 57,
   "id": "92dc97bc",
   "metadata": {},
   "outputs": [
    {
     "name": "stdout",
     "output_type": "stream",
     "text": [
      "          * \r\n",
      "        * * * \r\n",
      "      * * * * * \r\n",
      "    * * * * * * * \r\n",
      "  * * * * * * * * * \r\n"
     ]
    }
   ],
   "source": [
    "def triangle(n):\n",
    "     \n",
    "    # number of spaces\n",
    "    k = n - 1\n",
    " \n",
    "    # outer loop to handle number of rows\n",
    "    for i in range(n):\n",
    "    \n",
    "     \n",
    "        # decrementing k after each loop\n",
    "        k = k - 1\n",
    "        for j in range(i,n):\n",
    "                print(\" \", end = \" \")\n",
    "        # inner loop to handle number of columns\n",
    "        # values changing acc. to outer loop\n",
    "        for j in range(i):\n",
    "            print(\"*\", end=\" \")\n",
    "        for j in range(0, i+1):\n",
    "         \n",
    "            # printing stars\n",
    "            print(\"* \", end=\"\")\n",
    "     \n",
    "        # ending line after each row\n",
    "        print(\"\\r\")\n",
    " \n",
    "# Driver Code\n",
    "n = 5\n",
    "triangle(n)"
   ]
  },
  {
   "cell_type": "markdown",
   "id": "cdaa1b25",
   "metadata": {},
   "source": [
    "Q.10. Write a code to create the given structure using while loop."
   ]
  },
  {
   "cell_type": "code",
   "execution_count": 68,
   "id": "e17a4310",
   "metadata": {},
   "outputs": [
    {
     "name": "stdout",
     "output_type": "stream",
     "text": [
      "  | | | | | | | | | \n",
      "    | | | | | | | \n",
      "      | | | | | \n",
      "        | | | \n",
      "          | \n"
     ]
    }
   ],
   "source": [
    "def triangle(n):\n",
    "     \n",
    "    # number of spaces\n",
    "    k = n - 1\n",
    " \n",
    "    # outer loop to handle number of rows\n",
    "    for i in range(n):\n",
    "    \n",
    "        for j in range(0, i+1):\n",
    "         \n",
    "         print(\" \", end =\" \")\n",
    "        k = k - 1\n",
    "        for j in range(i,n):\n",
    "                print(\"|\", end = \" \")\n",
    "        for j in range(i,n-1):\n",
    "            print(\"|\", end=\" \")\n",
    "            \n",
    "        print()\n",
    "\n",
    " \n",
    "# Driver Code\n",
    "n = 5\n",
    "triangle(n)"
   ]
  }
 ],
 "metadata": {
  "kernelspec": {
   "display_name": "Python 3 (ipykernel)",
   "language": "python",
   "name": "python3"
  },
  "language_info": {
   "codemirror_mode": {
    "name": "ipython",
    "version": 3
   },
   "file_extension": ".py",
   "mimetype": "text/x-python",
   "name": "python",
   "nbconvert_exporter": "python",
   "pygments_lexer": "ipython3",
   "version": "3.9.7"
  }
 },
 "nbformat": 4,
 "nbformat_minor": 5
}
