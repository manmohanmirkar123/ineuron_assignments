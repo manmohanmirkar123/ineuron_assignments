{
 "cells": [
  {
   "cell_type": "markdown",
   "id": "52068a4a",
   "metadata": {},
   "source": [
    "1. In the below elements which of them are values or an expression? eg:- values can be integer or string and expressions will be mathematical operators."
   ]
  },
  {
   "cell_type": "markdown",
   "id": "8831b7b2",
   "metadata": {},
   "source": [
    "Ans:  \n",
    "    *   --> expression  \n",
    "'hello' --> value  \n",
    "-87.8   --> value  \n",
    "\"-\"       --> expression  \n",
    "/       --> expression  \n",
    "\"+\"\t    --> expression  \n",
    "6       --> value"
   ]
  },
  {
   "cell_type": "markdown",
   "id": "6103d37c",
   "metadata": {},
   "source": [
    "2. What is the difference between string and variable?"
   ]
  },
  {
   "cell_type": "markdown",
   "id": "c3c2a5d3",
   "metadata": {},
   "source": [
    "Ans: The string is a datatype of a variable. It's assigned to a variable by defining it in quotes. The variable is used to store the value in the memory Also, it can be manipulated if needed."
   ]
  },
  {
   "cell_type": "markdown",
   "id": "70552947",
   "metadata": {},
   "source": [
    "3. Describe three different data types."
   ]
  },
  {
   "cell_type": "markdown",
   "id": "d6b9bf1c",
   "metadata": {},
   "source": [
    "Ans:  \n",
    "    1. Numeric: – its datatype where numeric values can be stored. Subtypes are int, float, complex\n",
    "Example:  \n",
    "a=12 --> integer variable  \n",
    "b= 12.23-->float variable  \n",
    "c= 11+4j-->complex variable     \n",
    "2. Strings: Its datatype where set of characters donated by quotation mark. \n",
    "Example:\n",
    "Name= “Erik”  \n",
    "3. bool: it's used to represent two values True or False. \n"
   ]
  },
  {
   "cell_type": "code",
   "execution_count": 17,
   "id": "ab27aeac",
   "metadata": {},
   "outputs": [
    {
     "name": "stdout",
     "output_type": "stream",
     "text": [
      "<class 'int'>\n",
      "<class 'float'>\n",
      "<class 'complex'>\n",
      "<class 'str'>\n",
      "<class 'bool'>\n"
     ]
    }
   ],
   "source": [
    "a=12\n",
    "print(type(a))\n",
    "\n",
    "b= 12.23\n",
    "print(type(b))\n",
    "\n",
    "c= 11+4j\n",
    "print(type(c))\n",
    "\n",
    "name=\"Erik\"\n",
    "print(type(name))\n",
    "\n",
    "result=True\n",
    "print(type(result))"
   ]
  },
  {
   "cell_type": "markdown",
   "id": "28ffae53",
   "metadata": {},
   "source": [
    "4. What is an expression made up of? What do all expressions do?"
   ]
  },
  {
   "cell_type": "markdown",
   "id": "a4828f3a",
   "metadata": {},
   "source": [
    "Expression is made of a combination of operands and operators. Based on the value of the operand and the kind of operators, it calculates or produces the value."
   ]
  },
  {
   "cell_type": "code",
   "execution_count": 2,
   "id": "475c79db",
   "metadata": {},
   "outputs": [
    {
     "name": "stdout",
     "output_type": "stream",
     "text": [
      "7\n"
     ]
    }
   ],
   "source": [
    "a=10\n",
    "a= a-3 ### This is an expression that calculates the value of a\n",
    "print(a)"
   ]
  },
  {
   "cell_type": "markdown",
   "id": "c359d479",
   "metadata": {},
   "source": [
    "5. This assignment statements, like spam = 10. What is the difference between an expression and a statement?"
   ]
  },
  {
   "cell_type": "markdown",
   "id": "075f0a6c",
   "metadata": {},
   "source": [
    "Ans: This statement is not operated or not evaluated for calculating some results. In this case, we use a statement for creating the variable called “spam”. It's not been used for calculating some results. "
   ]
  },
  {
   "attachments": {},
   "cell_type": "markdown",
   "id": "8adbb475",
   "metadata": {},
   "source": [
    "6. After running the following code, what does the variable bacon contain?\n",
    "bacon = 22\n",
    "bacon + 1"
   ]
  },
  {
   "cell_type": "markdown",
   "id": "1cc37bea",
   "metadata": {},
   "source": [
    "Ans: It will contain the value 22."
   ]
  },
  {
   "cell_type": "code",
   "execution_count": 4,
   "id": "746280ee",
   "metadata": {},
   "outputs": [
    {
     "data": {
      "text/plain": [
       "22"
      ]
     },
     "execution_count": 4,
     "metadata": {},
     "output_type": "execute_result"
    }
   ],
   "source": [
    "bacon = 22 \n",
    "bacon + 1\n",
    "bacon"
   ]
  },
  {
   "cell_type": "markdown",
   "id": "6b7c09c1",
   "metadata": {},
   "source": [
    "7. What should the values of the following two terms be?\n",
    "'spam' + 'spamspam'\n",
    "'spam' * 3\n"
   ]
  },
  {
   "cell_type": "markdown",
   "id": "1ec924ee",
   "metadata": {},
   "source": [
    "Ans: The Value should be 'spamspamspam'"
   ]
  },
  {
   "cell_type": "code",
   "execution_count": 6,
   "id": "f67c5370",
   "metadata": {},
   "outputs": [
    {
     "data": {
      "text/plain": [
       "'spamspamspam'"
      ]
     },
     "execution_count": 6,
     "metadata": {},
     "output_type": "execute_result"
    }
   ],
   "source": [
    "'spam' + 'spamspam' "
   ]
  },
  {
   "cell_type": "code",
   "execution_count": 7,
   "id": "50f818cf",
   "metadata": {},
   "outputs": [
    {
     "data": {
      "text/plain": [
       "'spamspamspam'"
      ]
     },
     "execution_count": 7,
     "metadata": {},
     "output_type": "execute_result"
    }
   ],
   "source": [
    "'spam' * 3"
   ]
  },
  {
   "cell_type": "markdown",
   "id": "d13f3c55",
   "metadata": {},
   "source": [
    "8. Why is eggs a valid variable name while 100 is invalid?"
   ]
  },
  {
   "cell_type": "markdown",
   "id": "af0ecf58",
   "metadata": {},
   "source": [
    "As per the rule for the variables name in Python, it must start with “letter or underscore”, and also it cannot start with a number. Hence eggs is a valid however 100 is invalid ."
   ]
  },
  {
   "cell_type": "markdown",
   "id": "db962fe6",
   "metadata": {},
   "source": [
    "9. What three functions can be used to get the integer, floating-point number, or string version of a value?"
   ]
  },
  {
   "cell_type": "markdown",
   "id": "9583750b",
   "metadata": {},
   "source": [
    "Ans:  \n",
    "To get the integer value use --> int() function.  \n",
    "To get the floating-point use --> float() function.  \n",
    "To get the string value use --> str() function.  "
   ]
  },
  {
   "attachments": {},
   "cell_type": "markdown",
   "id": "70825703",
   "metadata": {},
   "source": [
    "10. Why does this expression cause an error? How can you fix it?  \n",
    "'I have eaten ' + 99 + ' burritos.'"
   ]
  },
  {
   "cell_type": "markdown",
   "id": "58bc44fe",
   "metadata": {},
   "source": [
    "Ans: Since this expression contains multiple single quotes (‘), python gets confused to decide on how the end quotes are located. In order to fix it, we need to replace the starting and the ending single quotes with the double quotes as below:"
   ]
  },
  {
   "cell_type": "code",
   "execution_count": 14,
   "id": "1835f910",
   "metadata": {},
   "outputs": [
    {
     "name": "stdout",
     "output_type": "stream",
     "text": [
      "I have eaten 99 burritos\n"
     ]
    }
   ],
   "source": [
    "print('I have eaten '+str(99)+' burritos')"
   ]
  }
 ],
 "metadata": {
  "kernelspec": {
   "display_name": "Python 3 (ipykernel)",
   "language": "python",
   "name": "python3"
  },
  "language_info": {
   "codemirror_mode": {
    "name": "ipython",
    "version": 3
   },
   "file_extension": ".py",
   "mimetype": "text/x-python",
   "name": "python",
   "nbconvert_exporter": "python",
   "pygments_lexer": "ipython3",
   "version": "3.9.7"
  }
 },
 "nbformat": 4,
 "nbformat_minor": 5
}
