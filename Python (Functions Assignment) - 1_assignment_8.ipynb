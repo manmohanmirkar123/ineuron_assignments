{
 "cells": [
  {
   "cell_type": "markdown",
   "id": "7d118c7b",
   "metadata": {},
   "source": [
    "### Python (Functions Assignment) - 1"
   ]
  },
  {
   "cell_type": "markdown",
   "id": "90f5d468",
   "metadata": {},
   "source": [
    "Q1. In Python, what is the difference between a built-in function and a user-defined function? Provide an example of each."
   ]
  },
  {
   "cell_type": "markdown",
   "id": "887bb181",
   "metadata": {},
   "source": [
    "**Built-in function:**\n",
    "The Python built-in functions are defined as the functions whose functionality is pre-defined in Python. The python interpreter has several functions that are always present for use. These functions are known as Built-in Functions. "
   ]
  },
  {
   "cell_type": "markdown",
   "id": "98730bb6",
   "metadata": {},
   "source": [
    "Example:  \n",
    "Examples of built-in functions include print(), len(), max(), min(), sum(), etc.\n",
    "\n",
    "The python bool() converts a value to boolean(True or False) using the standard truth testing procedure. A\n",
    "\n",
    "\n",
    "    "
   ]
  },
  {
   "cell_type": "code",
   "execution_count": 1,
   "id": "26f75976",
   "metadata": {},
   "outputs": [
    {
     "name": "stdout",
     "output_type": "stream",
     "text": [
      "None is False\n",
      "None is True\n"
     ]
    }
   ],
   "source": [
    "test1 = None  \n",
    "print(test1,'is',bool(test1))  \n",
    "test2 = True  \n",
    "print(test1,'is',bool(test2))  "
   ]
  },
  {
   "cell_type": "markdown",
   "id": "617fa684",
   "metadata": {},
   "source": [
    "**User-defined function:**\n",
    "A user-defined function is a function that is created by the Python programmer to perform specific tasks that are not covered by built-in functions. These functions are defined using the def keyword followed by the function name, parameters (if any), and the function body."
   ]
  },
  {
   "cell_type": "code",
   "execution_count": 2,
   "id": "617a09ef",
   "metadata": {},
   "outputs": [
    {
     "name": "stdout",
     "output_type": "stream",
     "text": [
      "Inside function\n"
     ]
    }
   ],
   "source": [
    "def fun():\n",
    "    print(\"Inside function\")\n",
    " \n",
    "# Driver's code\n",
    "# Calling function\n",
    "fun()"
   ]
  },
  {
   "cell_type": "markdown",
   "id": "98ecb216",
   "metadata": {},
   "source": [
    "Q2. How can you pass arguments to a function in Python? Explain the difference between positional arguments and keyword arguments."
   ]
  },
  {
   "cell_type": "markdown",
   "id": "0c843eb2",
   "metadata": {},
   "source": [
    "Ans: Python functions can contain two types of arguments: positional arguments and keyword arguments. \n",
    "\n",
    "**1. Positional Arguments:**   \n",
    "An argument is a variable, value or object passed to a function or method as input. Positional arguments are arguments that need to be included in the proper position or order."
   ]
  },
  {
   "cell_type": "code",
   "execution_count": 5,
   "id": "1b5d07a0",
   "metadata": {},
   "outputs": [
    {
     "name": "stdout",
     "output_type": "stream",
     "text": [
      "Hello, Manmohan! You are 33 years old.\n"
     ]
    }
   ],
   "source": [
    "def say_hellow(name, age):\n",
    "    print(f\"Hello, {name}! You are {age} years old.\")\n",
    "\n",
    "# Passing positional arguments\n",
    "say_hellow(\"Manmohan\", 33)"
   ]
  },
  {
   "cell_type": "markdown",
   "id": "c0149686",
   "metadata": {},
   "source": [
    "**2. Keyword Arguments:**   \n",
    "Keyword arguments are passed to a function with their corresponding parameter names. The order of the arguments doesn't matter in this case, as long as the parameter names are specified.\n",
    "\n",
    "Here's an example of using keyword arguments:"
   ]
  },
  {
   "cell_type": "code",
   "execution_count": 6,
   "id": "6b43779b",
   "metadata": {},
   "outputs": [
    {
     "name": "stdout",
     "output_type": "stream",
     "text": [
      "Hello, Manmohan! You are 33 years old.\n"
     ]
    }
   ],
   "source": [
    "def say_hellow(name, age):\n",
    "    print(f\"Hello, {name}! You are {age} years old.\")\n",
    "\n",
    "# Mixing positional and keyword arguments\n",
    "say_hellow(age=33,name=\"Manmohan\")"
   ]
  },
  {
   "cell_type": "markdown",
   "id": "a4996dee",
   "metadata": {},
   "source": [
    "Q3. What is the purpose of the return statement in a function? Can a function have multiple return\n",
    "statements? Explain with an example."
   ]
  },
  {
   "cell_type": "markdown",
   "id": "beedf63d",
   "metadata": {},
   "source": [
    "Ans:A return statement is used to end the execution of the function call and “returns” the result (value of the expression following the return keyword) to the caller. The statements after the return statements are not executed. \n",
    "\n",
    "Yes, a function can have multiple return statements. The function will return the value associated with the first return statement it encounters during its execution.\n",
    "\n",
    "Here's an example to illustrate the use of the return statement in a function with multiple return statements:"
   ]
  },
  {
   "cell_type": "code",
   "execution_count": 8,
   "id": "dde1fda2",
   "metadata": {},
   "outputs": [
    {
     "name": "stdout",
     "output_type": "stream",
     "text": [
      "Aged Person\n",
      "Young person\n"
     ]
    }
   ],
   "source": [
    "def age(number):\n",
    "    if number >= 40:\n",
    "        return \"Aged Person\"\n",
    "    else :\n",
    "        return \"Young person\"\n",
    "\n",
    "result1 = age(45)\n",
    "result2 = age(20)\n",
    "\n",
    "print(result1) \n",
    "print(result2) "
   ]
  },
  {
   "cell_type": "markdown",
   "id": "cce8a4e4",
   "metadata": {},
   "source": [
    "4. What are lambda functions in Python? How are they different from regular functions? Provide an\n",
    "example where a lambda function can be useful."
   ]
  },
  {
   "cell_type": "markdown",
   "id": "590e333e",
   "metadata": {},
   "source": [
    "Ans: Lambda functions are similar to user-defined functions but without a name. They're commonly referred to as anonymous functions.\n",
    "Lambda functions are efficient whenever you want to create a function that will only contain simple expressions – that is, expressions that are usually a single line of a statement. They're also useful when you want to use the function once."
   ]
  },
  {
   "cell_type": "markdown",
   "id": "11df94f9",
   "metadata": {},
   "source": [
    "The key differences between lambda functions and regular functions are:\n",
    "\n",
    "Syntax: Lambda functions have a more compact syntax compared to regular functions. They are defined using the lambda keyword, followed by a list of parameters, a colon, and the expression to be evaluated.\n",
    "\n",
    "Nameless: Lambda functions are anonymous, meaning they don't have a name. They are typically used when a small function is needed for a specific task and doesn't require a full function definition.\n",
    "\n",
    "Single Expression: Lambda functions are limited to a single expression. They can't contain multiple statements or complex logic."
   ]
  },
  {
   "cell_type": "code",
   "execution_count": 11,
   "id": "59b51d54",
   "metadata": {},
   "outputs": [
    {
     "name": "stdout",
     "output_type": "stream",
     "text": [
      "7\n",
      "7\n"
     ]
    }
   ],
   "source": [
    "# Regular function to add the two numbers\n",
    "def sum(x,y):\n",
    "    return x +y\n",
    "\n",
    "result = sum(5,2)\n",
    "print(result)\n",
    "# The same functionality can be achieved using a lambda function:\n",
    "\n",
    "\n",
    "# Lambda function to add two numbers\n",
    "add = lambda x,y: x+y\n",
    "\n",
    "result = add(5,2)\n",
    "print(result)"
   ]
  },
  {
   "cell_type": "markdown",
   "id": "800ab3ef",
   "metadata": {},
   "source": [
    "Q5. How does the concept of \"scope\" apply to functions in Python? Explain the difference between local\n",
    "scope and global scope."
   ]
  },
  {
   "cell_type": "markdown",
   "id": "bd52c20d",
   "metadata": {},
   "source": [
    "Ans: There are two types of variables: global variables and local variables. The scope of global variables is the entire program whereas the scope of local variable is limited to the function where it is defined."
   ]
  },
  {
   "cell_type": "markdown",
   "id": "2965832c",
   "metadata": {},
   "source": [
    "**Python Local Variables**  \n",
    "Local variables in Python are those which are initialized inside a function and belong only to that particular function. It cannot be accessed anywhere outside the function. Let’s see how to create a local variable."
   ]
  },
  {
   "cell_type": "code",
   "execution_count": 12,
   "id": "2b8b7909",
   "metadata": {},
   "outputs": [
    {
     "name": "stdout",
     "output_type": "stream",
     "text": [
      "I love Data science\n"
     ]
    }
   ],
   "source": [
    "def f():\n",
    "\n",
    "\t# local variable\n",
    "\ts = \"I love Data science\"\n",
    "\tprint(s)\n",
    "\n",
    "\n",
    "# Driver code\n",
    "f()\n"
   ]
  },
  {
   "cell_type": "markdown",
   "id": "8a1d9a3d",
   "metadata": {},
   "source": [
    "**Python Global Variables**   \n",
    "These are those which are defined outside any function and which are accessible throughout the program, i.e., inside and outside of every function. Let’s see how to create a Python global variable.\n",
    "\n"
   ]
  },
  {
   "cell_type": "code",
   "execution_count": 13,
   "id": "652decbf",
   "metadata": {},
   "outputs": [
    {
     "name": "stdout",
     "output_type": "stream",
     "text": [
      "Inside Function I love Data science\n",
      "Outside Function I love Data science\n"
     ]
    }
   ],
   "source": [
    "# This function uses global variable s\n",
    "def f():\n",
    "\tprint(\"Inside Function\", s)\n",
    "\n",
    "# Global scope\n",
    "s = \"I love Data science\"\n",
    "f()\n",
    "print(\"Outside Function\", s)\n"
   ]
  },
  {
   "cell_type": "markdown",
   "id": "033b15a5",
   "metadata": {},
   "source": [
    "Q6. How can you use the \"return\" statement in a Python function to return multiple values?"
   ]
  },
  {
   "cell_type": "markdown",
   "id": "250b9ecd",
   "metadata": {},
   "source": [
    "Ans: In Python, the return statement in a function can be used to return multiple values by returning them as a tuple, list, or any other iterable object. This allows you to effectively return multiple values from a single function call. Here's an example to demonstrate this:"
   ]
  },
  {
   "cell_type": "code",
   "execution_count": 14,
   "id": "69a681bb",
   "metadata": {},
   "outputs": [
    {
     "name": "stdout",
     "output_type": "stream",
     "text": [
      "Manmohan\n",
      "33\n",
      "Thane\n"
     ]
    }
   ],
   "source": [
    "def show_info():\n",
    "    name = \"Manmohan\"\n",
    "    age = 33\n",
    "    city = \"Thane\"\n",
    "    return name, age, city\n",
    "\n",
    "# Calling the function and storing the returned values\n",
    "result = show_info()\n",
    "\n",
    "# Accessing the returned values\n",
    "name, age, city = result\n",
    "print(name)  \n",
    "print(age)  \n",
    "print(city)  "
   ]
  },
  {
   "cell_type": "markdown",
   "id": "9f0d1625",
   "metadata": {},
   "source": [
    "Q7. What is the difference between the \"pass by value\" and \"pass by reference\" concepts when it\n",
    "comes to function arguments in Python?"
   ]
  },
  {
   "cell_type": "markdown",
   "id": "224bfb41",
   "metadata": {},
   "source": [
    "Ans:\n",
    "**pass by value**:  \n",
    "\n",
    "In pass by value (also known as call by value), the argument passed to the function is the copy of of its original object. If we change or update the value of object inside the function, then original object will not change.\n",
    "\n",
    "If the argument is variable, the copy of the current value of the variable is passed to the function’s parameter. The value of the variable in the function call is not affected by what happens inside the function."
   ]
  },
  {
   "cell_type": "code",
   "execution_count": 16,
   "id": "f8b5d277",
   "metadata": {},
   "outputs": [
    {
     "name": "stdout",
     "output_type": "stream",
     "text": [
      "String outside the function before modifying: Yogesh\n",
      "String inside the function before modifying: Yogesh\n",
      "String inside the function after modifying: Nitin\n",
      "String outside the function after modifying: Yogesh\n"
     ]
    }
   ],
   "source": [
    "def my_func(name):\n",
    "    print('String inside the function before modifying:',name)\n",
    "    name = 'Nitin' # modifying value.\n",
    "    print('String inside the function after modifying:',name)\n",
    "\n",
    "# Main part of program.\n",
    "n = 'Yogesh'\n",
    "print('String outside the function before modifying:',n)\n",
    "\n",
    "my_func(n) # calling function with passing n to function parameter name.\n",
    "print('String outside the function after modifying:',n)"
   ]
  },
  {
   "cell_type": "markdown",
   "id": "6457a9b2",
   "metadata": {},
   "source": [
    "**pass by reference**:    \n",
    "\n",
    "In pass by reference (also known as call by reference), the argument passed to the function’s parameter is the original object. If we change the value of object inside the function, the original object will also change."
   ]
  },
  {
   "cell_type": "markdown",
   "id": "6b14f138",
   "metadata": {},
   "source": [
    "Immutable arguments, such as integers, floats, strings, and tuples, are passed by value. A copy of them is made and passed to the function. If they are modified inside the function, the original will not update.\n",
    "On the other hand, mutable arguments, such as lists, dictionaries, sets, and instances of classes, are passed by reference mechanism. They can be modified inside the function."
   ]
  },
  {
   "cell_type": "code",
   "execution_count": 18,
   "id": "f4c0ec77",
   "metadata": {},
   "outputs": [
    {
     "name": "stdout",
     "output_type": "stream",
     "text": [
      "Values outside the function before modifying: [1, 2, 3]\n",
      "Values inside the function before modifying: [1, 2, 3]\n",
      "Values inside the function after modifying: [1, 2, 4]\n",
      "Values outside the function after modifying: [1, 2, 4]\n"
     ]
    }
   ],
   "source": [
    "def my_funct(y):\n",
    "    print('Values inside the function before modifying:',y)\n",
    "    y[2] = 4 # modifying value.\n",
    "    print('Values inside the function after modifying:',y)\n",
    "\n",
    "# Main part of program.\n",
    "x = [1, 2, 3] # List of values.\n",
    "print('Values outside the function before modifying:',x)\n",
    "\n",
    "my_funct(x) # calling function with passing x to function parameter y.\n",
    "print('Values outside the function after modifying:',x)"
   ]
  },
  {
   "cell_type": "markdown",
   "id": "dae44e45",
   "metadata": {},
   "source": [
    "In this example, ‘x’ is a list of values. Since the list is a mutable object in Python, the passing acts like call by reference. We have passed x as an argument to the function’s parameter y using call by reference"
   ]
  },
  {
   "cell_type": "markdown",
   "id": "3b0340a7",
   "metadata": {},
   "source": [
    "Q8. Create a function that can intake integer or decimal value and do following operations:  \n",
    "\n",
    "a. Logarithmic function (log x)   \n",
    "b. Exponential function (exp(x))   \n",
    "c. Power function with base 2 (2x)    \n",
    "d. Square root"
   ]
  },
  {
   "cell_type": "code",
   "execution_count": 33,
   "id": "9780dfdd",
   "metadata": {},
   "outputs": [
    {
     "name": "stdout",
     "output_type": "stream",
     "text": [
      "Enter the integer or float value::  5\n",
      "Logarithmic function (log 5.0) is : 1.6094379124341003\n",
      "Exponential function (exp 5.0) is : 148.4131591025766\n",
      "Power function with base 2 (2^5.0) is : 32.0\n",
      "Square root of 5.0 is : 2.23606797749979\n"
     ]
    }
   ],
   "source": [
    "import math\n",
    "\n",
    "def calc(x):\n",
    "    log_fn= math.log(x)\n",
    "    \n",
    "    exp_fn=math.exp(x)\n",
    "    \n",
    "    power_fn = math.pow(2, x)\n",
    "    \n",
    "    sqrt= math.sqrt(x)\n",
    "   \n",
    "    return log_fn,exp_fn,power_fn,sqrt\n",
    "    \n",
    "\n",
    "#calling the function\n",
    "x=float(input(\"Enter the integer or float value::  \"))\n",
    "\n",
    "#printing the result\n",
    "result=calc(x)\n",
    "\n",
    "print(f\"Logarithmic function (log {x}) is : {result[0]}\")\n",
    "print(f\"Exponential function (exp {x}) is : {result[1]}\")\n",
    "print(f\"Power function with base 2 (2^{x}) is : {result[2]}\")\n",
    "print(f\"Square root of {x} is : {result[3]}\")"
   ]
  },
  {
   "cell_type": "code",
   "execution_count": 29,
   "id": "da8faee9",
   "metadata": {},
   "outputs": [
    {
     "name": "stdout",
     "output_type": "stream",
     "text": [
      "Enter the integer or float value::  2.5\n",
      "Logarithmic function (log 2.5) is : 0.9162907318741551\n",
      "Exponential function (exp 2.5) is : 12.182493960703473\n",
      "Power function with base 2 (2^2.5) is : 5.656854249492381\n",
      "Square root of 2.5 is : 1.5811388300841898\n"
     ]
    }
   ],
   "source": [
    "#calling the function\n",
    "x=float(input(\"Enter the integer or float value::  \"))\n",
    "\n",
    "#printing the result\n",
    "result=calc(x)\n",
    "\n",
    "print(f\"Logarithmic function (log {x}) is : {result[0]}\")\n",
    "print(f\"Exponential function (exp {x}) is : {result[1]}\")\n",
    "print(f\"Power function with base 2 (2^{x}) is : {result[2]}\")\n",
    "print(f\"Square root of {x} is : {result[3]}\")"
   ]
  },
  {
   "cell_type": "markdown",
   "id": "8b262d24",
   "metadata": {},
   "source": [
    "Q9. Create a function that takes a full name as an argument and returns first name and last name."
   ]
  },
  {
   "cell_type": "code",
   "execution_count": 44,
   "id": "d76894f0",
   "metadata": {},
   "outputs": [
    {
     "name": "stdout",
     "output_type": "stream",
     "text": [
      "Eneter full Name:  Manmohan Mirkar\n",
      "The first name is:: Manmohan\n",
      "The last name is:: Mirkar\n"
     ]
    }
   ],
   "source": [
    "def print_name(fname):\n",
    "    name = fname.split(\" \")\n",
    "    return name[0],name[1]\n",
    "    \n",
    "fname=str(input(\"Eneter full Name:  \"))\n",
    "first_name, last_name=print_name(fname)\n",
    "print(f\"The first name is:: {first_name}\")\n",
    "print(f\"The last name is:: {last_name}\")"
   ]
  }
 ],
 "metadata": {
  "kernelspec": {
   "display_name": "Python 3 (ipykernel)",
   "language": "python",
   "name": "python3"
  },
  "language_info": {
   "codemirror_mode": {
    "name": "ipython",
    "version": 3
   },
   "file_extension": ".py",
   "mimetype": "text/x-python",
   "name": "python",
   "nbconvert_exporter": "python",
   "pygments_lexer": "ipython3",
   "version": "3.9.7"
  }
 },
 "nbformat": 4,
 "nbformat_minor": 5
}
