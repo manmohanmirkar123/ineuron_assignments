{
 "cells": [
  {
   "cell_type": "markdown",
   "id": "c6b2ad87",
   "metadata": {},
   "source": [
    "Q.1. Create two int type variables, apply addition, subtraction, division and multiplications\n",
    "and store the results in variables. Then print the data in the following format by calling the\n",
    "variables:\n",
    "First variable is __ & second variable is __.  \n",
    "Addition: __ + __ = __  \n",
    "Subtraction: __ - __ = __  \n",
    "Multiplication: __ * __ = __  \n",
    "Division: __ / __ = __  "
   ]
  },
  {
   "cell_type": "code",
   "execution_count": 9,
   "id": "25913db5",
   "metadata": {},
   "outputs": [
    {
     "name": "stdout",
     "output_type": "stream",
     "text": [
      "First variable is 10 & second variable is 2. \n",
      "Addition: 10 + 2 = 12  \n",
      "Subtraction: 10 - 2 = 8  \n",
      "Multiplication: 10 * 2 = 20  \n",
      "Division: 10 / 2 = 5.0  \n"
     ]
    }
   ],
   "source": [
    "var1=10 #Variable 1\n",
    "var2=2  #Variable 2\n",
    " \n",
    "add=var1+var2 #Addition Operation \n",
    "sub=var1-var2 #Subtraction  Operation \n",
    "mul=var1*var2 #Multiplication Operation \n",
    "div=var1/var2 #Division Operation \n",
    "\n",
    "#Printing the operation results\n",
    "print(f\"First variable is {var1} & second variable is {var2}. \")\n",
    "print(f\"Addition: {var1} + {var2} = {add}  \")\n",
    "print(f\"Subtraction: {var1} - {var2} = {sub}  \")\n",
    "print(f\"Multiplication: {var1} * {var2} = {mul}  \")\n",
    "print(f\"Division: {var1} / {var2} = {div}  \")"
   ]
  },
  {
   "cell_type": "markdown",
   "id": "5809ca52",
   "metadata": {},
   "source": [
    "Q.2. What is the difference between the following operators:\n",
    "\n",
    "(i) ‘/’ & ‘//’"
   ]
  },
  {
   "cell_type": "markdown",
   "id": "9e862cf2",
   "metadata": {},
   "source": [
    "The '/' operator performs normal division and returns a float result. This operator performs floating point division even when the oprands are integers."
   ]
  },
  {
   "cell_type": "code",
   "execution_count": 10,
   "id": "bcc80f2a",
   "metadata": {},
   "outputs": [
    {
     "name": "stdout",
     "output_type": "stream",
     "text": [
      "3.3333333333333335\n",
      "<class 'float'>\n"
     ]
    }
   ],
   "source": [
    "##Example\n",
    "result = 10/3\n",
    "print(result)\n",
    "print(type(result))"
   ]
  },
  {
   "cell_type": "markdown",
   "id": "a20a1456",
   "metadata": {},
   "source": [
    "The '//' operator is known as the floor division or integer division operator. It performs division and returns the floor (rounded down) of the quotient as an integer. It ignores the fractional part of the result.The outcome result will be of the type integer as shown below:"
   ]
  },
  {
   "cell_type": "code",
   "execution_count": 12,
   "id": "a8e5e671",
   "metadata": {},
   "outputs": [
    {
     "name": "stdout",
     "output_type": "stream",
     "text": [
      "3\n",
      "<class 'int'>\n"
     ]
    }
   ],
   "source": [
    "result = 10 // 3\n",
    "print(result) \n",
    "print(type(result))"
   ]
  },
  {
   "cell_type": "markdown",
   "id": "bab6f35f",
   "metadata": {},
   "source": [
    " **(ii) \"\\**\" & ‘^’"
   ]
  },
  {
   "cell_type": "markdown",
   "id": "e3685657",
   "metadata": {},
   "source": [
    "The '\\**' operator is used to perfomrm Exponentiation operation in Python. It raises the left operand to the power of the right operand."
   ]
  },
  {
   "cell_type": "code",
   "execution_count": 13,
   "id": "6f5d2b9d",
   "metadata": {},
   "outputs": [
    {
     "name": "stdout",
     "output_type": "stream",
     "text": [
      "27\n"
     ]
    }
   ],
   "source": [
    "result = 3 ** 3\n",
    "print(result) "
   ]
  },
  {
   "cell_type": "markdown",
   "id": "25fa4c21",
   "metadata": {},
   "source": [
    "The '^' operator is the bitwise XOR operator used for performing bitwise exclusive OR operations between two integers. It sets each bit to 1 if only one of two bits is 1"
   ]
  },
  {
   "cell_type": "code",
   "execution_count": 14,
   "id": "285c59fd",
   "metadata": {},
   "outputs": [
    {
     "name": "stdout",
     "output_type": "stream",
     "text": [
      "6\n"
     ]
    }
   ],
   "source": [
    "result = 5 ^ 3\n",
    "print(result)  "
   ]
  },
  {
   "cell_type": "markdown",
   "id": "55d28dec",
   "metadata": {},
   "source": [
    "Q.3. List the logical operators."
   ]
  },
  {
   "cell_type": "markdown",
   "id": "c4e2c107",
   "metadata": {},
   "source": [
    "|Operator         | Description           | Example   | Result|\n",
    "| ------------- |:-------------:| ------:|------:|\n",
    "|and      | Returns True if both statements are true | x < 5 and  x < 10 |True|\n",
    "| or      | Returns True if one of the statements is true      |  x < 5 or x < 4 |True|\n",
    "| not | Reverse the result, returns False if the result is true      |    not(x < 5 and x < 10) |False"
   ]
  },
  {
   "cell_type": "code",
   "execution_count": 16,
   "id": "e8e42f69",
   "metadata": {},
   "outputs": [
    {
     "name": "stdout",
     "output_type": "stream",
     "text": [
      "True\n"
     ]
    }
   ],
   "source": [
    "x = 5\n",
    "print(x > 3 and x < 10)"
   ]
  },
  {
   "cell_type": "code",
   "execution_count": 17,
   "id": "37a4871c",
   "metadata": {},
   "outputs": [
    {
     "name": "stdout",
     "output_type": "stream",
     "text": [
      "True\n"
     ]
    }
   ],
   "source": [
    "x = 5\n",
    "print(x > 3 or x < 4)"
   ]
  },
  {
   "cell_type": "code",
   "execution_count": 18,
   "id": "0d888b63",
   "metadata": {},
   "outputs": [
    {
     "name": "stdout",
     "output_type": "stream",
     "text": [
      "False\n"
     ]
    }
   ],
   "source": [
    "x = 5\n",
    "print(not(x > 3 and x < 10))"
   ]
  },
  {
   "cell_type": "markdown",
   "id": "d384dad5",
   "metadata": {},
   "source": [
    "Q.4. Explain right shift operator and left shift operator with examples."
   ]
  },
  {
   "cell_type": "markdown",
   "id": "b1c1a1fb",
   "metadata": {},
   "source": [
    "**Bitwise right shift::** Shifts the bits of the number to the right and fills 0 on voids left( fills 1 in the case of a negative number) as a result.  \n",
    "\n",
    "**Bitwise Left shift::** Shifts the bits of the number to the left and fills 0 on voids right as a result."
   ]
  },
  {
   "cell_type": "code",
   "execution_count": 19,
   "id": "afa24cda",
   "metadata": {},
   "outputs": [
    {
     "name": "stdout",
     "output_type": "stream",
     "text": [
      "a >> 1 = 5\n",
      "b >> 1 = -5\n",
      "a << 1 = 10\n",
      "b << 1 = -20\n"
     ]
    }
   ],
   "source": [
    "a = 10\n",
    "b = -10\n",
    " \n",
    "# print bitwise right shift operator\n",
    "print(\"a >> 1 =\", a >> 1)\n",
    "print(\"b >> 1 =\", b >> 1)\n",
    " \n",
    "a = 5\n",
    "b = -10\n",
    " \n",
    "# print bitwise left shift operator\n",
    "print(\"a << 1 =\", a << 1)\n",
    "print(\"b << 1 =\", b << 1)"
   ]
  },
  {
   "cell_type": "markdown",
   "id": "abecded9",
   "metadata": {},
   "source": [
    "Q.5. Create a list containing int type data of length 15. Then write a code to check if 10 is\n",
    "present in the list or not."
   ]
  },
  {
   "cell_type": "code",
   "execution_count": 26,
   "id": "a5a30d81",
   "metadata": {},
   "outputs": [
    {
     "name": "stdout",
     "output_type": "stream",
     "text": [
      "The length of the list1 is: 15\n",
      "The value 10 is present in list1\n"
     ]
    }
   ],
   "source": [
    "#initializing the list\n",
    "\n",
    "list1=[12,23,32,88,11,45,75,74,13,10,11,55,44,21,88]\n",
    "print(f\"The length of the list1 is: {len(list1)}\")\n",
    "\n",
    "if 10 in list1:\n",
    "    print(\"The value 10 is present in list1\")\n",
    "else:\n",
    "    print(\"The value 10 is not present in list1\")"
   ]
  }
 ],
 "metadata": {
  "kernelspec": {
   "display_name": "Python 3 (ipykernel)",
   "language": "python",
   "name": "python3"
  },
  "language_info": {
   "codemirror_mode": {
    "name": "ipython",
    "version": 3
   },
   "file_extension": ".py",
   "mimetype": "text/x-python",
   "name": "python",
   "nbconvert_exporter": "python",
   "pygments_lexer": "ipython3",
   "version": "3.9.7"
  }
 },
 "nbformat": 4,
 "nbformat_minor": 5
}
