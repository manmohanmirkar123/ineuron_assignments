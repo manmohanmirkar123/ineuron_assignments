{
 "cells": [
  {
   "cell_type": "markdown",
   "id": "93967864",
   "metadata": {},
   "source": [
    "1. What does an empty dictionary&#39;s code look like?"
   ]
  },
  {
   "cell_type": "markdown",
   "id": "4598ce67",
   "metadata": {},
   "source": [
    "Ans:Empty dictionary is represented by two empty curly brackets\n",
    "d = {} or d = dict()"
   ]
  },
  {
   "cell_type": "code",
   "execution_count": 17,
   "id": "eb631a38",
   "metadata": {},
   "outputs": [
    {
     "name": "stdout",
     "output_type": "stream",
     "text": [
      "Contents of my my_dict is::{}\n",
      "Length of my_dict is::0\n",
      "Type of my_dict is::<class 'dict'>\n"
     ]
    }
   ],
   "source": [
    "#sample code\n",
    "\n",
    "my_dict={}\n",
    "\n",
    "print(f\"Contents of my my_dict is::{my_dict}\")\n",
    "\n",
    "print(f\"Length of my_dict is::{len(my_dict)}\")\n",
    "\n",
    "print(f\"Type of my_dict is::{type(my_dict)}\")"
   ]
  },
  {
   "cell_type": "markdown",
   "id": "81afc703",
   "metadata": {},
   "source": [
    "2. What is the value of a dictionary value with the key &#39;foo&#39; and the value 42?"
   ]
  },
  {
   "cell_type": "markdown",
   "id": "d6b598c3",
   "metadata": {},
   "source": [
    "Ans: {'foo':42}"
   ]
  },
  {
   "cell_type": "code",
   "execution_count": 5,
   "id": "84f0b0a0",
   "metadata": {},
   "outputs": [
    {
     "name": "stdout",
     "output_type": "stream",
     "text": [
      "42\n"
     ]
    }
   ],
   "source": [
    "my_dict1= {'foo':42}\n",
    "print(my_dict1['foo'])"
   ]
  },
  {
   "cell_type": "markdown",
   "id": "7acaa59d",
   "metadata": {},
   "source": [
    "3. What is the most significant distinction between a dictionary and a list?"
   ]
  },
  {
   "cell_type": "markdown",
   "id": "92fed34e",
   "metadata": {},
   "source": [
    "Ans: Dictionaries are represented by {} where as listed are represented by []\n",
    "The Items stored in a dictionary are Unordered , while the items in a list are ordered. Dictinories are comprises of key:value pairs. however Lists are comprises of values. In the List values need to be unique always however dictonary keys need to be unique."
   ]
  },
  {
   "cell_type": "code",
   "execution_count": 8,
   "id": "abefc1d3",
   "metadata": {},
   "outputs": [
    {
     "name": "stdout",
     "output_type": "stream",
     "text": [
      "Dictionary with the use of Integer Keys: \n",
      "{1: 'abc', 2: 'def', 3: 'pqr'}\n",
      "['abc', 'pqr', 'xyz', 'abc']\n"
     ]
    }
   ],
   "source": [
    "#Dictionary\n",
    "my_dict2 = {1: 'abc', 2: 'def', 3: 'pqr'}\n",
    "print(\"Dictionary with the use of Integer Keys: \")\n",
    "print(my_dict2)\n",
    "\n",
    "#List\n",
    "list = [\"abc\", \"pqr\", \"xyz\",\"abc\"]\n",
    "print(list)"
   ]
  },
  {
   "cell_type": "markdown",
   "id": "ca19a6a5",
   "metadata": {},
   "source": [
    "4. What happens if you try to access spam[&#39;foo&#39;] if spam is {&#39;bar&#39;: 100}?"
   ]
  },
  {
   "cell_type": "markdown",
   "id": "0b0a37fc",
   "metadata": {},
   "source": [
    "Ans: we will get a keyError KeyError: 'foo'"
   ]
  },
  {
   "cell_type": "code",
   "execution_count": 10,
   "id": "d7f6c429",
   "metadata": {},
   "outputs": [
    {
     "ename": "KeyError",
     "evalue": "'foo'",
     "output_type": "error",
     "traceback": [
      "\u001b[0;31m---------------------------------------------------------------------------\u001b[0m",
      "\u001b[0;31mKeyError\u001b[0m                                  Traceback (most recent call last)",
      "\u001b[0;32m/var/folders/tb/rmws3cxd5617q9j9w2b9f75w0000gn/T/ipykernel_21423/1078832278.py\u001b[0m in \u001b[0;36m<module>\u001b[0;34m\u001b[0m\n\u001b[1;32m      1\u001b[0m \u001b[0mspam\u001b[0m \u001b[0;34m=\u001b[0m \u001b[0;34m{\u001b[0m\u001b[0;34m'bar'\u001b[0m\u001b[0;34m:\u001b[0m \u001b[0;36m100\u001b[0m\u001b[0;34m}\u001b[0m\u001b[0;34m\u001b[0m\u001b[0;34m\u001b[0m\u001b[0m\n\u001b[0;32m----> 2\u001b[0;31m \u001b[0mspam\u001b[0m \u001b[0;34m[\u001b[0m\u001b[0;34m'foo'\u001b[0m\u001b[0;34m]\u001b[0m\u001b[0;34m\u001b[0m\u001b[0;34m\u001b[0m\u001b[0m\n\u001b[0m",
      "\u001b[0;31mKeyError\u001b[0m: 'foo'"
     ]
    }
   ],
   "source": [
    "spam = {'bar': 100}\n",
    "spam ['foo']"
   ]
  },
  {
   "cell_type": "markdown",
   "id": "e21b223d",
   "metadata": {},
   "source": [
    "5. If a dictionary is stored in spam, what is the difference between the expressions &#39;cat&#39; in spam and\n",
    "&#39;cat&#39; in spam.keys()?"
   ]
  },
  {
   "cell_type": "markdown",
   "id": "9a47ea6d",
   "metadata": {},
   "source": [
    "Ans: There is no difference . The operator checks whether a value exits as a key in the dictionary or not"
   ]
  },
  {
   "cell_type": "markdown",
   "id": "13109087",
   "metadata": {},
   "source": [
    "6. If a dictionary is stored in spam, what is the difference between the expressions &#39;cat&#39; in spam and\n",
    "&#39;cat&#39; in spam.values()?"
   ]
  },
  {
   "cell_type": "markdown",
   "id": "69ee8b23",
   "metadata": {},
   "source": [
    "Ans:'cat' in spam checks whether there is a 'cat' key in the dictionary, while 'cat' in spam.values() checks whether there is a value 'cat' for one of the keys in spam."
   ]
  },
  {
   "cell_type": "markdown",
   "id": "b5084db8",
   "metadata": {},
   "source": [
    "7. What is a shortcut for the following code?  \n",
    "if &#39;color&#39; not in spam:  \n",
    "spam[&#39;color&#39;] = &#39;black&#39;"
   ]
  },
  {
   "cell_type": "markdown",
   "id": "76cf2a82",
   "metadata": {},
   "source": [
    "Ans: spam.setdefault('color','black')"
   ]
  },
  {
   "cell_type": "markdown",
   "id": "c02ab3fd",
   "metadata": {},
   "source": [
    "8. How do you &quot;pretty print&quot; dictionary values using which module and function?"
   ]
  },
  {
   "cell_type": "markdown",
   "id": "3b84b6a9",
   "metadata": {},
   "source": [
    "Ans: We need to import the pprint module in Python. Then using following three function we can use pretty print.\n",
    "\n",
    "a. by using pprint() function of pprint module  \n",
    "Note: pprint() function doesnot prettify nested dictionaries  \n",
    "b. by using dumps() method of json module  \n",
    "c. by using dumps() method of yaml module  "
   ]
  },
  {
   "cell_type": "code",
   "execution_count": 16,
   "id": "54ff1b86",
   "metadata": {},
   "outputs": [
    {
     "name": "stdout",
     "output_type": "stream",
     "text": [
      "Case 1: Using the print function to print the array of the dictionary .\n",
      "\n",
      "\n",
      "[{'Serial_No': '123', 'Gender': 'M', 'Class_Attended': 'English', 'Class_section': '7-D'}, {'Serial_No': '546', 'Gender': 'U', 'Class_Attended': 'Mathematics', 'Class_section': '5-D'}, {'Serial_No': '456', 'Gender': 'F', 'Class_Attended': 'English', 'Class_section': '7-H'}, {'Serial_No': '876', 'Gender': 'F', 'Class_Attended': 'English', 'Class_section': '10-A'}, {'Serial_No': '343', 'Gender': 'M', 'Class_Attended': 'Hindi', 'Class_section': '3-G'}]\n",
      "\n",
      "\n",
      "Case 2: Using pprint function to print the array of a dictionary .\n",
      "[{'Class_Attended': 'English',\n",
      "  'Class_section': '7-D',\n",
      "  'Gender': 'M',\n",
      "  'Serial_No': '123'},\n",
      " {'Class_Attended': 'Mathematics',\n",
      "  'Class_section': '5-D',\n",
      "  'Gender': 'U',\n",
      "  'Serial_No': '546'},\n",
      " {'Class_Attended': 'English',\n",
      "  'Class_section': '7-H',\n",
      "  'Gender': 'F',\n",
      "  'Serial_No': '456'},\n",
      " {'Class_Attended': 'English',\n",
      "  'Class_section': '10-A',\n",
      "  'Gender': 'F',\n",
      "  'Serial_No': '876'},\n",
      " {'Class_Attended': 'Hindi',\n",
      "  'Class_section': '3-G',\n",
      "  'Gender': 'M',\n",
      "  'Serial_No': '343'}]\n"
     ]
    }
   ],
   "source": [
    "# Code Example 1\n",
    "# Using pprint()\n",
    "# We first import the pprint module as shown below.\n",
    "import pprint\n",
    "\n",
    "# array of dictionary \n",
    "dict_array_1 = [\n",
    "  {'Serial_No': '123', 'Gender': 'M', 'Class_Attended': 'English', 'Class_section': '7-D' },\n",
    "  {'Serial_No': '546', 'Gender': 'U', 'Class_Attended': 'Mathematics', 'Class_section': '5-D' },\n",
    "  {'Serial_No': '456', 'Gender': 'F', 'Class_Attended': 'English', 'Class_section': '7-H' },\n",
    "  {'Serial_No': '876', 'Gender': 'F', 'Class_Attended': 'English', 'Class_section': '10-A'},\n",
    "  {'Serial_No': '343', 'Gender': 'M', 'Class_Attended': 'Hindi', 'Class_section': '3-G'}\n",
    "]\n",
    "# an array of dictionaries where we have unique keys with values that include strings and lists.\n",
    "\n",
    "print(\"Case 1: Using the print function to print the array of the dictionary .\\n\\n\")\n",
    "\n",
    "# creating a variable named pretty_print_1 where we are implementing the pprint method to pretty print dict python\n",
    "print(dict_array_1)\n",
    "\n",
    "print(\"\\n\\nCase 2: Using pprint function to print the array of a dictionary .\")\n",
    "\n",
    "# creating a variable named pretty_print_1 where we are implementing the pprint method to pretty print dict python\n",
    "pretty_print_1 = pprint.pprint(dict_array_1)"
   ]
  }
 ],
 "metadata": {
  "kernelspec": {
   "display_name": "Python 3 (ipykernel)",
   "language": "python",
   "name": "python3"
  },
  "language_info": {
   "codemirror_mode": {
    "name": "ipython",
    "version": 3
   },
   "file_extension": ".py",
   "mimetype": "text/x-python",
   "name": "python",
   "nbconvert_exporter": "python",
   "pygments_lexer": "ipython3",
   "version": "3.9.7"
  }
 },
 "nbformat": 4,
 "nbformat_minor": 5
}
